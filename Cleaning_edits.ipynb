{
 "cells": [
  {
   "cell_type": "code",
   "execution_count": null,
   "metadata": {},
   "outputs": [],
   "source": [
    "# recode 'renovated' from bool to num format\n",
    "\n",
    "def renovated (year):\n",
    "    \"\"\"\n",
    "    This returns a True / False value on whether a property has been renovated or not\n",
    "    \"\"\"\n",
    "    if year == 0.0:\n",
    "        return 0\n",
    "    elif year > 0.0:\n",
    "        return 1\n",
    "    else:\n",
    "        return 0\n",
    "    \n",
    "df['renovated'] = df['yr_renovated'].map(renovated)"
   ]
  },
  {
   "cell_type": "code",
   "execution_count": null,
   "metadata": {},
   "outputs": [],
   "source": [
    "# change negative and 0 values to 1 for normalization\n",
    "\n",
    "df['age'] = df['date'].map(lambda x: int(x[-4:])) - df['yr_built']\n",
    "df.loc[df['age'] <= 0, 'age'] = 1"
   ]
  },
  {
   "cell_type": "markdown",
   "metadata": {},
   "source": [
    "# Add to cleaning section"
   ]
  },
  {
   "cell_type": "code",
   "execution_count": null,
   "metadata": {},
   "outputs": [],
   "source": [
    "# This creates a column of float values stating how old the renovations are on a property\n",
    "# If a property has not been renovated it will have a 0.0 value\n",
    "df['age_of_renovations'] = df['date'].map(lambda x: int(x[-4:])) - df['yr_renovated']\n",
    "df.loc[df['age_of_renovations'] == 2014, 'age_of_renovations'] = 1\n",
    "df.loc[df['age_of_renovations'] == 2015, 'age_of_renovations'] = 1\n",
    "df['age_of_renovations'] = df['age_of_renovations'].fillna(0)"
   ]
  }
 ],
 "metadata": {
  "kernelspec": {
   "display_name": "learn-env",
   "language": "python",
   "name": "learn-env"
  },
  "language_info": {
   "codemirror_mode": {
    "name": "ipython",
    "version": 3
   },
   "file_extension": ".py",
   "mimetype": "text/x-python",
   "name": "python",
   "nbconvert_exporter": "python",
   "pygments_lexer": "ipython3",
   "version": "3.8.5"
  }
 },
 "nbformat": 4,
 "nbformat_minor": 4
}
