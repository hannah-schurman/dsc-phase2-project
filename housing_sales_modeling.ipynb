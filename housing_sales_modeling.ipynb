{
 "cells": [
  {
   "cell_type": "markdown",
   "id": "103f3ff1",
   "metadata": {},
   "source": [
    "<img src=\"images/housing_market.jpg_fit=scale\" width=400 height=400 />"
   ]
  },
  {
   "cell_type": "markdown",
   "id": "4cafc43c",
   "metadata": {},
   "source": [
    "# King County, WA Housing Sales Analysis"
   ]
  },
  {
   "cell_type": "markdown",
   "id": "54561808",
   "metadata": {},
   "source": [
    "# Overview\n",
    "---\n",
    "\n",
    "Our team was hired by a hot-shot real estate agency to create a model which can predict the price of a house in the King County, WA area based on different features. Our analysis concluded that the best features for prediction of housing prices are the following: city/town/neighborhood location, square footage, number of bedrooms, whether it's on the water, how good of a view it has, the property grade, and the age of the property. \n",
    "\n",
    "To acheive our goal, we used multiple linear regression models to analyse housing sales in King County, WA using housing data gathered within the county from 2014 and 2015. For this analysis, we used Ordinary Least Squared, Train-Test Split, and K-Fold Cross Validation regression models to create an efficient predictive model. \n",
    "\n",
    "Our analysis shows that based on the R2 score, our regression model explains 80.1% of the price variance with a 95% conf interval +-3.9% "
   ]
  },
  {
   "cell_type": "markdown",
   "id": "8659f784",
   "metadata": {},
   "source": [
    "# Business Understanding\n",
    "---\n",
    "Our stakeholder wants to be able to predict the price of a house based on certain features provided by their customers. \n",
    "\n",
    "Our project will answer the following questions:\n",
    "* With what accuracy could we predict the price of a house based on these features?\n",
    "* What specific housing features will provide us with the most accurate model? "
   ]
  },
  {
   "cell_type": "markdown",
   "id": "85269af8",
   "metadata": {},
   "source": [
    "# Data Understanding\n",
    "---\n",
    "The data used for this project was sourced from a dataset called ‘King County House Sales’ and contains information regarding housing sales statistics in King County, WA.\n",
    "\n",
    "##### The dataset contains the following columns:\n",
    "\n",
    "* ```id```: A unique sale id relating to a house sale\n",
    "* ```date```: Date of house sale\n",
    "* ```price```: The price which the house sold for\n",
    "* ```bedrooms```: How many bedrooms the house has\n",
    "* ```bathrooms```: How many bathrooms the house has\n",
    "* ```sqft_living```: How much square footage the house has\n",
    "* ```sqft_lot```: How much square footage the lot has\n",
    "* ```floors```: How many floors the house has\n",
    "* ```waterfront```: Whether the house is on the waterfront. Originally contained ‘YES’ or ‘NO’, converted to 0 or 1 for comparative purposes\n",
    "* ```view```: Whether the house has a view and whether it’s fair, average, good, or excellent. Converted to numberical (0-4) for comparative purposes\n",
    "* ```condition```: overall condition of the house: Poor, Fair, Average, Good, Very Good\n",
    "* ```grade```: Numerical grading for house\n",
    "* ```sqft_above```: How much of the houses square footage is above ground\n",
    "* ```sqft_basement```: How much of the square footage is in the basement\n",
    "* ```yr_built```: Year the house was built\n",
    "* ```yr_renovated```: Year the house was renovated, if applicable\n",
    "* ```zipcode```: House zipcode\n",
    "* ```lat```: House’s latitude coordinate\n",
    "* ```long```: House’s longitude coordinate\n",
    "* ```sqft_living15```: Average size of living space for the closest 15 houses\n",
    "* ```sqft_lot15```: Average size of lot for the closest 15 houses\n",
    "\n",
    "\n",
    "\n",
    "**In addition to the King County Housing Sales dataset, we used data from the following sources:**\n",
    "\n",
    "Open Street Maps\\\n",
    "The largest website related to geographical maps and geolocation coding of locations\\\n",
    "website: www.openstreetmap.org) \n",
    "\n",
    "Washington Geospatial Open Data\\\n",
    "Official website of Washington state, US. The website contains different geospatial information about cities and their boundaries\\\n",
    "Website: https://geo.wa.gov/"
   ]
  },
  {
   "cell_type": "markdown",
   "id": "176f6265",
   "metadata": {},
   "source": [
    "# Data Cleaning"
   ]
  },
  {
   "cell_type": "markdown",
   "id": "e064319c",
   "metadata": {},
   "source": [
    "### Importing required modules"
   ]
  },
  {
   "cell_type": "code",
   "execution_count": 1,
   "id": "d352b4a9",
   "metadata": {},
   "outputs": [],
   "source": [
    "# Data manipulations\n",
    "import pickle\n",
    "import pandas as pd\n",
    "import numpy as np\n",
    "import math\n",
    "import statsmodels.api as sm\n",
    "from itertools import combinations\n",
    "from statsmodels.formula.api import ols\n",
    "\n",
    "\n",
    "#SKlearn\n",
    "from sklearn.preprocessing import OneHotEncoder, PolynomialFeatures, StandardScaler\n",
    "from sklearn.linear_model import LinearRegression\n",
    "from sklearn.model_selection import train_test_split\n",
    "from sklearn.feature_selection import RFE\n",
    "from sklearn.model_selection import KFold, cross_val_score\n",
    "from sklearn.metrics import mean_squared_error, r2_score\n",
    "from sklearn.model_selection import cross_validate, cross_val_predict\n",
    "\n",
    "\n",
    "#Visualisations\n",
    "import matplotlib.pyplot as plt\n",
    "import seaborn as sns\n",
    "%matplotlib inline\n",
    "\n",
    "from warnings import simplefilter\n",
    "simplefilter(action='ignore', category=FutureWarning)"
   ]
  },
  {
   "cell_type": "markdown",
   "id": "f5e8f14d",
   "metadata": {},
   "source": [
    "### Importing data"
   ]
  },
  {
   "cell_type": "code",
   "execution_count": 2,
   "id": "4220ef7e",
   "metadata": {},
   "outputs": [],
   "source": [
    "df = pd.read_csv('data/kc_house_data.csv')"
   ]
  },
  {
   "cell_type": "markdown",
   "id": "fcf34d20",
   "metadata": {},
   "source": [
    "### Processing cleaning"
   ]
  },
  {
   "cell_type": "code",
   "execution_count": 3,
   "id": "94f769e4",
   "metadata": {},
   "outputs": [
    {
     "data": {
      "text/html": [
       "<div>\n",
       "<style scoped>\n",
       "    .dataframe tbody tr th:only-of-type {\n",
       "        vertical-align: middle;\n",
       "    }\n",
       "\n",
       "    .dataframe tbody tr th {\n",
       "        vertical-align: top;\n",
       "    }\n",
       "\n",
       "    .dataframe thead th {\n",
       "        text-align: right;\n",
       "    }\n",
       "</style>\n",
       "<table border=\"1\" class=\"dataframe\">\n",
       "  <thead>\n",
       "    <tr style=\"text-align: right;\">\n",
       "      <th></th>\n",
       "      <th>id</th>\n",
       "      <th>date</th>\n",
       "      <th>price</th>\n",
       "      <th>bedrooms</th>\n",
       "      <th>bathrooms</th>\n",
       "      <th>sqft_living</th>\n",
       "      <th>sqft_lot</th>\n",
       "      <th>floors</th>\n",
       "      <th>waterfront</th>\n",
       "      <th>view</th>\n",
       "      <th>...</th>\n",
       "      <th>grade</th>\n",
       "      <th>sqft_above</th>\n",
       "      <th>sqft_basement</th>\n",
       "      <th>yr_built</th>\n",
       "      <th>yr_renovated</th>\n",
       "      <th>zipcode</th>\n",
       "      <th>lat</th>\n",
       "      <th>long</th>\n",
       "      <th>sqft_living15</th>\n",
       "      <th>sqft_lot15</th>\n",
       "    </tr>\n",
       "  </thead>\n",
       "  <tbody>\n",
       "    <tr>\n",
       "      <th>0</th>\n",
       "      <td>7129300520</td>\n",
       "      <td>10/13/2014</td>\n",
       "      <td>221900.0</td>\n",
       "      <td>3</td>\n",
       "      <td>1.00</td>\n",
       "      <td>1180</td>\n",
       "      <td>5650</td>\n",
       "      <td>1.0</td>\n",
       "      <td>NaN</td>\n",
       "      <td>NONE</td>\n",
       "      <td>...</td>\n",
       "      <td>7 Average</td>\n",
       "      <td>1180</td>\n",
       "      <td>0.0</td>\n",
       "      <td>1955</td>\n",
       "      <td>0.0</td>\n",
       "      <td>98178</td>\n",
       "      <td>47.5112</td>\n",
       "      <td>-122.257</td>\n",
       "      <td>1340</td>\n",
       "      <td>5650</td>\n",
       "    </tr>\n",
       "    <tr>\n",
       "      <th>1</th>\n",
       "      <td>6414100192</td>\n",
       "      <td>12/9/2014</td>\n",
       "      <td>538000.0</td>\n",
       "      <td>3</td>\n",
       "      <td>2.25</td>\n",
       "      <td>2570</td>\n",
       "      <td>7242</td>\n",
       "      <td>2.0</td>\n",
       "      <td>NO</td>\n",
       "      <td>NONE</td>\n",
       "      <td>...</td>\n",
       "      <td>7 Average</td>\n",
       "      <td>2170</td>\n",
       "      <td>400.0</td>\n",
       "      <td>1951</td>\n",
       "      <td>1991.0</td>\n",
       "      <td>98125</td>\n",
       "      <td>47.7210</td>\n",
       "      <td>-122.319</td>\n",
       "      <td>1690</td>\n",
       "      <td>7639</td>\n",
       "    </tr>\n",
       "    <tr>\n",
       "      <th>2</th>\n",
       "      <td>5631500400</td>\n",
       "      <td>2/25/2015</td>\n",
       "      <td>180000.0</td>\n",
       "      <td>2</td>\n",
       "      <td>1.00</td>\n",
       "      <td>770</td>\n",
       "      <td>10000</td>\n",
       "      <td>1.0</td>\n",
       "      <td>NO</td>\n",
       "      <td>NONE</td>\n",
       "      <td>...</td>\n",
       "      <td>6 Low Average</td>\n",
       "      <td>770</td>\n",
       "      <td>0.0</td>\n",
       "      <td>1933</td>\n",
       "      <td>NaN</td>\n",
       "      <td>98028</td>\n",
       "      <td>47.7379</td>\n",
       "      <td>-122.233</td>\n",
       "      <td>2720</td>\n",
       "      <td>8062</td>\n",
       "    </tr>\n",
       "    <tr>\n",
       "      <th>3</th>\n",
       "      <td>2487200875</td>\n",
       "      <td>12/9/2014</td>\n",
       "      <td>604000.0</td>\n",
       "      <td>4</td>\n",
       "      <td>3.00</td>\n",
       "      <td>1960</td>\n",
       "      <td>5000</td>\n",
       "      <td>1.0</td>\n",
       "      <td>NO</td>\n",
       "      <td>NONE</td>\n",
       "      <td>...</td>\n",
       "      <td>7 Average</td>\n",
       "      <td>1050</td>\n",
       "      <td>910.0</td>\n",
       "      <td>1965</td>\n",
       "      <td>0.0</td>\n",
       "      <td>98136</td>\n",
       "      <td>47.5208</td>\n",
       "      <td>-122.393</td>\n",
       "      <td>1360</td>\n",
       "      <td>5000</td>\n",
       "    </tr>\n",
       "    <tr>\n",
       "      <th>4</th>\n",
       "      <td>1954400510</td>\n",
       "      <td>2/18/2015</td>\n",
       "      <td>510000.0</td>\n",
       "      <td>3</td>\n",
       "      <td>2.00</td>\n",
       "      <td>1680</td>\n",
       "      <td>8080</td>\n",
       "      <td>1.0</td>\n",
       "      <td>NO</td>\n",
       "      <td>NONE</td>\n",
       "      <td>...</td>\n",
       "      <td>8 Good</td>\n",
       "      <td>1680</td>\n",
       "      <td>0.0</td>\n",
       "      <td>1987</td>\n",
       "      <td>0.0</td>\n",
       "      <td>98074</td>\n",
       "      <td>47.6168</td>\n",
       "      <td>-122.045</td>\n",
       "      <td>1800</td>\n",
       "      <td>7503</td>\n",
       "    </tr>\n",
       "  </tbody>\n",
       "</table>\n",
       "<p>5 rows × 21 columns</p>\n",
       "</div>"
      ],
      "text/plain": [
       "           id        date     price  bedrooms  bathrooms  sqft_living  \\\n",
       "0  7129300520  10/13/2014  221900.0         3       1.00         1180   \n",
       "1  6414100192   12/9/2014  538000.0         3       2.25         2570   \n",
       "2  5631500400   2/25/2015  180000.0         2       1.00          770   \n",
       "3  2487200875   12/9/2014  604000.0         4       3.00         1960   \n",
       "4  1954400510   2/18/2015  510000.0         3       2.00         1680   \n",
       "\n",
       "   sqft_lot  floors waterfront  view  ...          grade sqft_above  \\\n",
       "0      5650     1.0        NaN  NONE  ...      7 Average       1180   \n",
       "1      7242     2.0         NO  NONE  ...      7 Average       2170   \n",
       "2     10000     1.0         NO  NONE  ...  6 Low Average        770   \n",
       "3      5000     1.0         NO  NONE  ...      7 Average       1050   \n",
       "4      8080     1.0         NO  NONE  ...         8 Good       1680   \n",
       "\n",
       "   sqft_basement yr_built  yr_renovated  zipcode      lat     long  \\\n",
       "0            0.0     1955           0.0    98178  47.5112 -122.257   \n",
       "1          400.0     1951        1991.0    98125  47.7210 -122.319   \n",
       "2            0.0     1933           NaN    98028  47.7379 -122.233   \n",
       "3          910.0     1965           0.0    98136  47.5208 -122.393   \n",
       "4            0.0     1987           0.0    98074  47.6168 -122.045   \n",
       "\n",
       "   sqft_living15  sqft_lot15  \n",
       "0           1340        5650  \n",
       "1           1690        7639  \n",
       "2           2720        8062  \n",
       "3           1360        5000  \n",
       "4           1800        7503  \n",
       "\n",
       "[5 rows x 21 columns]"
      ]
     },
     "metadata": {},
     "output_type": "display_data"
    },
    {
     "data": {
      "text/html": [
       "<div>\n",
       "<style scoped>\n",
       "    .dataframe tbody tr th:only-of-type {\n",
       "        vertical-align: middle;\n",
       "    }\n",
       "\n",
       "    .dataframe tbody tr th {\n",
       "        vertical-align: top;\n",
       "    }\n",
       "\n",
       "    .dataframe thead th {\n",
       "        text-align: right;\n",
       "    }\n",
       "</style>\n",
       "<table border=\"1\" class=\"dataframe\">\n",
       "  <thead>\n",
       "    <tr style=\"text-align: right;\">\n",
       "      <th></th>\n",
       "      <th>id</th>\n",
       "      <th>price</th>\n",
       "      <th>bedrooms</th>\n",
       "      <th>bathrooms</th>\n",
       "      <th>sqft_living</th>\n",
       "      <th>sqft_lot</th>\n",
       "      <th>floors</th>\n",
       "      <th>sqft_above</th>\n",
       "      <th>yr_built</th>\n",
       "      <th>yr_renovated</th>\n",
       "      <th>zipcode</th>\n",
       "      <th>lat</th>\n",
       "      <th>long</th>\n",
       "      <th>sqft_living15</th>\n",
       "      <th>sqft_lot15</th>\n",
       "    </tr>\n",
       "  </thead>\n",
       "  <tbody>\n",
       "    <tr>\n",
       "      <th>count</th>\n",
       "      <td>2.159700e+04</td>\n",
       "      <td>2.159700e+04</td>\n",
       "      <td>21597.000000</td>\n",
       "      <td>21597.000000</td>\n",
       "      <td>21597.000000</td>\n",
       "      <td>2.159700e+04</td>\n",
       "      <td>21597.000000</td>\n",
       "      <td>21597.000000</td>\n",
       "      <td>21597.000000</td>\n",
       "      <td>17755.000000</td>\n",
       "      <td>21597.000000</td>\n",
       "      <td>21597.000000</td>\n",
       "      <td>21597.000000</td>\n",
       "      <td>21597.000000</td>\n",
       "      <td>21597.000000</td>\n",
       "    </tr>\n",
       "    <tr>\n",
       "      <th>mean</th>\n",
       "      <td>4.580474e+09</td>\n",
       "      <td>5.402966e+05</td>\n",
       "      <td>3.373200</td>\n",
       "      <td>2.115826</td>\n",
       "      <td>2080.321850</td>\n",
       "      <td>1.509941e+04</td>\n",
       "      <td>1.494096</td>\n",
       "      <td>1788.596842</td>\n",
       "      <td>1970.999676</td>\n",
       "      <td>83.636778</td>\n",
       "      <td>98077.951845</td>\n",
       "      <td>47.560093</td>\n",
       "      <td>-122.213982</td>\n",
       "      <td>1986.620318</td>\n",
       "      <td>12758.283512</td>\n",
       "    </tr>\n",
       "    <tr>\n",
       "      <th>std</th>\n",
       "      <td>2.876736e+09</td>\n",
       "      <td>3.673681e+05</td>\n",
       "      <td>0.926299</td>\n",
       "      <td>0.768984</td>\n",
       "      <td>918.106125</td>\n",
       "      <td>4.141264e+04</td>\n",
       "      <td>0.539683</td>\n",
       "      <td>827.759761</td>\n",
       "      <td>29.375234</td>\n",
       "      <td>399.946414</td>\n",
       "      <td>53.513072</td>\n",
       "      <td>0.138552</td>\n",
       "      <td>0.140724</td>\n",
       "      <td>685.230472</td>\n",
       "      <td>27274.441950</td>\n",
       "    </tr>\n",
       "    <tr>\n",
       "      <th>min</th>\n",
       "      <td>1.000102e+06</td>\n",
       "      <td>7.800000e+04</td>\n",
       "      <td>1.000000</td>\n",
       "      <td>0.500000</td>\n",
       "      <td>370.000000</td>\n",
       "      <td>5.200000e+02</td>\n",
       "      <td>1.000000</td>\n",
       "      <td>370.000000</td>\n",
       "      <td>1900.000000</td>\n",
       "      <td>0.000000</td>\n",
       "      <td>98001.000000</td>\n",
       "      <td>47.155900</td>\n",
       "      <td>-122.519000</td>\n",
       "      <td>399.000000</td>\n",
       "      <td>651.000000</td>\n",
       "    </tr>\n",
       "    <tr>\n",
       "      <th>25%</th>\n",
       "      <td>2.123049e+09</td>\n",
       "      <td>3.220000e+05</td>\n",
       "      <td>3.000000</td>\n",
       "      <td>1.750000</td>\n",
       "      <td>1430.000000</td>\n",
       "      <td>5.040000e+03</td>\n",
       "      <td>1.000000</td>\n",
       "      <td>1190.000000</td>\n",
       "      <td>1951.000000</td>\n",
       "      <td>0.000000</td>\n",
       "      <td>98033.000000</td>\n",
       "      <td>47.471100</td>\n",
       "      <td>-122.328000</td>\n",
       "      <td>1490.000000</td>\n",
       "      <td>5100.000000</td>\n",
       "    </tr>\n",
       "    <tr>\n",
       "      <th>50%</th>\n",
       "      <td>3.904930e+09</td>\n",
       "      <td>4.500000e+05</td>\n",
       "      <td>3.000000</td>\n",
       "      <td>2.250000</td>\n",
       "      <td>1910.000000</td>\n",
       "      <td>7.618000e+03</td>\n",
       "      <td>1.500000</td>\n",
       "      <td>1560.000000</td>\n",
       "      <td>1975.000000</td>\n",
       "      <td>0.000000</td>\n",
       "      <td>98065.000000</td>\n",
       "      <td>47.571800</td>\n",
       "      <td>-122.231000</td>\n",
       "      <td>1840.000000</td>\n",
       "      <td>7620.000000</td>\n",
       "    </tr>\n",
       "    <tr>\n",
       "      <th>75%</th>\n",
       "      <td>7.308900e+09</td>\n",
       "      <td>6.450000e+05</td>\n",
       "      <td>4.000000</td>\n",
       "      <td>2.500000</td>\n",
       "      <td>2550.000000</td>\n",
       "      <td>1.068500e+04</td>\n",
       "      <td>2.000000</td>\n",
       "      <td>2210.000000</td>\n",
       "      <td>1997.000000</td>\n",
       "      <td>0.000000</td>\n",
       "      <td>98118.000000</td>\n",
       "      <td>47.678000</td>\n",
       "      <td>-122.125000</td>\n",
       "      <td>2360.000000</td>\n",
       "      <td>10083.000000</td>\n",
       "    </tr>\n",
       "    <tr>\n",
       "      <th>max</th>\n",
       "      <td>9.900000e+09</td>\n",
       "      <td>7.700000e+06</td>\n",
       "      <td>33.000000</td>\n",
       "      <td>8.000000</td>\n",
       "      <td>13540.000000</td>\n",
       "      <td>1.651359e+06</td>\n",
       "      <td>3.500000</td>\n",
       "      <td>9410.000000</td>\n",
       "      <td>2015.000000</td>\n",
       "      <td>2015.000000</td>\n",
       "      <td>98199.000000</td>\n",
       "      <td>47.777600</td>\n",
       "      <td>-121.315000</td>\n",
       "      <td>6210.000000</td>\n",
       "      <td>871200.000000</td>\n",
       "    </tr>\n",
       "  </tbody>\n",
       "</table>\n",
       "</div>"
      ],
      "text/plain": [
       "                 id         price      bedrooms     bathrooms   sqft_living  \\\n",
       "count  2.159700e+04  2.159700e+04  21597.000000  21597.000000  21597.000000   \n",
       "mean   4.580474e+09  5.402966e+05      3.373200      2.115826   2080.321850   \n",
       "std    2.876736e+09  3.673681e+05      0.926299      0.768984    918.106125   \n",
       "min    1.000102e+06  7.800000e+04      1.000000      0.500000    370.000000   \n",
       "25%    2.123049e+09  3.220000e+05      3.000000      1.750000   1430.000000   \n",
       "50%    3.904930e+09  4.500000e+05      3.000000      2.250000   1910.000000   \n",
       "75%    7.308900e+09  6.450000e+05      4.000000      2.500000   2550.000000   \n",
       "max    9.900000e+09  7.700000e+06     33.000000      8.000000  13540.000000   \n",
       "\n",
       "           sqft_lot        floors    sqft_above      yr_built  yr_renovated  \\\n",
       "count  2.159700e+04  21597.000000  21597.000000  21597.000000  17755.000000   \n",
       "mean   1.509941e+04      1.494096   1788.596842   1970.999676     83.636778   \n",
       "std    4.141264e+04      0.539683    827.759761     29.375234    399.946414   \n",
       "min    5.200000e+02      1.000000    370.000000   1900.000000      0.000000   \n",
       "25%    5.040000e+03      1.000000   1190.000000   1951.000000      0.000000   \n",
       "50%    7.618000e+03      1.500000   1560.000000   1975.000000      0.000000   \n",
       "75%    1.068500e+04      2.000000   2210.000000   1997.000000      0.000000   \n",
       "max    1.651359e+06      3.500000   9410.000000   2015.000000   2015.000000   \n",
       "\n",
       "            zipcode           lat          long  sqft_living15     sqft_lot15  \n",
       "count  21597.000000  21597.000000  21597.000000   21597.000000   21597.000000  \n",
       "mean   98077.951845     47.560093   -122.213982    1986.620318   12758.283512  \n",
       "std       53.513072      0.138552      0.140724     685.230472   27274.441950  \n",
       "min    98001.000000     47.155900   -122.519000     399.000000     651.000000  \n",
       "25%    98033.000000     47.471100   -122.328000    1490.000000    5100.000000  \n",
       "50%    98065.000000     47.571800   -122.231000    1840.000000    7620.000000  \n",
       "75%    98118.000000     47.678000   -122.125000    2360.000000   10083.000000  \n",
       "max    98199.000000     47.777600   -121.315000    6210.000000  871200.000000  "
      ]
     },
     "execution_count": 3,
     "metadata": {},
     "output_type": "execute_result"
    }
   ],
   "source": [
    "# Explore our data\n",
    "display(df.head())\n",
    "df.describe()"
   ]
  },
  {
   "cell_type": "code",
   "execution_count": 4,
   "id": "a974ec28",
   "metadata": {},
   "outputs": [],
   "source": [
    "# Lets convert condition codes to numerical values for the prediction model\n",
    "# Create function for conditional labeling:\n",
    "def condition_coding (condition):\n",
    "    \"\"\"\n",
    "    This will take the condition from string format and transform it into a corresponding code in integer format\n",
    "    Poor = 1, Fair = 2, Average = 3, Good = 4, Very Good = 5\n",
    "    \"\"\"\n",
    "    if condition == 'Poor':\n",
    "        condition_code = 1\n",
    "    elif condition == 'Fair':\n",
    "        condition_code = 2\n",
    "    elif condition == 'Average':\n",
    "        condition_code = 3\n",
    "    elif condition == 'Good':\n",
    "        condition_code = 4\n",
    "    elif condition == 'Very Good':\n",
    "        condition_code = 5\n",
    "    return condition_code\n",
    "\n",
    "# Apply function to dataframe\n",
    "df[\"condition_code\"] = df['condition'].map(condition_coding)\n"
   ]
  },
  {
   "cell_type": "code",
   "execution_count": 5,
   "id": "80e49054",
   "metadata": {},
   "outputs": [],
   "source": [
    "# Lets convert grade codes to numerical values for the prediction model\n",
    "# Create function for grade labeling:\n",
    "def grade_coding (grade):\n",
    "    \"\"\"\n",
    "    This takes the grade in string format, splits it into a list of characters\n",
    "    It then concatenates the first two characters from the list and strips the whitespace and turns the result into an integer\n",
    "    We are left with a one or two digit integer correspondinng to the grade of the property\n",
    "    \"\"\"\n",
    "    grade_list = list(grade)\n",
    "    grade_code = int((grade_list[0] + grade_list[1]).strip())\n",
    "    return grade_code\n",
    "\n",
    "# Apply function to dataframe\n",
    "df['grade_code'] = df['grade'].map(grade_coding)"
   ]
  },
  {
   "cell_type": "code",
   "execution_count": 6,
   "id": "6c02d883",
   "metadata": {},
   "outputs": [],
   "source": [
    "# Resolve missing values of house renovation dates. The column mode is 0, we fill missing values with it.\n",
    "df['yr_renovated'] = df['yr_renovated'].fillna(0)"
   ]
  },
  {
   "cell_type": "code",
   "execution_count": 7,
   "id": "590b1cf6",
   "metadata": {},
   "outputs": [],
   "source": [
    "# Create house age feature.\n",
    "# House age feature calculated the timeframe between transaction date and house construction date.\n",
    "df['age'] = df['date'].map(lambda x: int(x[-4:])) - df['yr_built']\n",
    "df.loc[df['age'] < 0, 'age'] = 0"
   ]
  },
  {
   "cell_type": "code",
   "execution_count": 8,
   "id": "dcda6ed9",
   "metadata": {},
   "outputs": [],
   "source": [
    "# Feature was house renovated or not. \n",
    "def renovated (year):\n",
    "    \"\"\"\n",
    "    This returns a True / False value on whether a property has been renovated or not\n",
    "    \"\"\"\n",
    "    if year == 0.0:\n",
    "        return 0\n",
    "    elif year > 0.0:\n",
    "        return 1\n",
    "    else:\n",
    "        return 0\n",
    "\n",
    "# Apply function to dataframe\n",
    "df['renovated'] = df['yr_renovated'].map(renovated)"
   ]
  },
  {
   "cell_type": "code",
   "execution_count": 9,
   "id": "60b1ba1a",
   "metadata": {},
   "outputs": [],
   "source": [
    "# This creates a column of float values stating how old the renovations are on a property\n",
    "# If a property has not been renovated it will have a 0.0 value\n",
    "df['age_of_renovations'] = df['date'].map(lambda x: int(x[-4:])) - df['yr_renovated']\n",
    "df.loc[df['age_of_renovations'] == 2014, 'age_of_renovations'] = 0\n",
    "df.loc[df['age_of_renovations'] == 2015, 'age_of_renovations'] = 0\n",
    "df['age_of_renovations'] = df['age_of_renovations'].fillna(0)"
   ]
  },
  {
   "cell_type": "code",
   "execution_count": 10,
   "id": "ea4a6b2d",
   "metadata": {},
   "outputs": [],
   "source": [
    "# The majority of values in waterfront column are - No. Fill the missing values with mode value if this column.\n",
    "df['waterfront'] = df['waterfront'].fillna('NO')\n",
    "\n",
    "# Convert waterfront column to numerical values for the prediction model \n",
    "df['waterfront_coded'] = df['waterfront'].map({'NO':0, 'YES':1})\n"
   ]
  },
  {
   "cell_type": "code",
   "execution_count": 11,
   "id": "719bcf66",
   "metadata": {},
   "outputs": [],
   "source": [
    "# The majority of values in view column are - None. Fill the missing values with mode value if this column.\n",
    "df['view'] = df['view'].fillna('NONE')\n",
    "\n",
    "# Label view column for the prediction model.\n",
    "df['view_coded'] = df['view'].map({'NONE':0, 'FAIR':1, 'AVERAGE':2, 'GOOD':3, 'EXCELLENT':4})\n"
   ]
  },
  {
   "cell_type": "code",
   "execution_count": 12,
   "id": "d4244f56",
   "metadata": {},
   "outputs": [],
   "source": [
    "# Some values of sqft_basement are missing. Find the missing values by subtracting sqft_above from sqft living.\n",
    "df['sqft_basement'] = np.where(df['sqft_basement'] == '?', df['sqft_living'] - df['sqft_above'], df['sqft_basement'])\n",
    "df['sqft_basement'] = df['sqft_basement'].astype('float')"
   ]
  },
  {
   "cell_type": "code",
   "execution_count": 13,
   "id": "7043c6ed",
   "metadata": {},
   "outputs": [
    {
     "data": {
      "text/plain": [
       "(21597, 28)"
      ]
     },
     "execution_count": 13,
     "metadata": {},
     "output_type": "execute_result"
    }
   ],
   "source": [
    "# Check the shape of final dataframe without geo location data\n",
    "df.shape"
   ]
  },
  {
   "cell_type": "markdown",
   "id": "a052a54a",
   "metadata": {},
   "source": [
    "### Geo Locate to convert lat/long columns into Cities/Towns/Neighborhoods"
   ]
  },
  {
   "cell_type": "code",
   "execution_count": 14,
   "id": "3cb7a0ce",
   "metadata": {},
   "outputs": [],
   "source": [
    "# Location coordinates were scrapped from OSM in other jupyter notebook. \n",
    "# Load processed geo data from another notebook\n",
    "with open('./data/Data_frame_geoloc.pickle', 'rb') as df_geo_data:\n",
    "    df_geo = pickle.load(df_geo_data)\n"
   ]
  },
  {
   "cell_type": "code",
   "execution_count": 15,
   "id": "0dd5185e",
   "metadata": {},
   "outputs": [],
   "source": [
    "# Lets check size of dataframe, drop all dublicated columns.\n",
    "df_geo.shape\n",
    "df_geo.drop(['id', 'lat', 'price', 'yr_built', 'sqft_living', 'sqft_lot'], axis = 1 , inplace = True)\n"
   ]
  },
  {
   "cell_type": "code",
   "execution_count": 16,
   "id": "a581ba8b",
   "metadata": {},
   "outputs": [
    {
     "data": {
      "text/plain": [
       "(21597, 8)"
      ]
     },
     "execution_count": 16,
     "metadata": {},
     "output_type": "execute_result"
    }
   ],
   "source": [
    "df_geo.shape"
   ]
  },
  {
   "cell_type": "code",
   "execution_count": 17,
   "id": "9134314b",
   "metadata": {},
   "outputs": [
    {
     "name": "stdout",
     "output_type": "stream",
     "text": [
      "<class 'pandas.core.frame.DataFrame'>\n",
      "RangeIndex: 21597 entries, 0 to 21596\n",
      "Data columns (total 36 columns):\n",
      " #   Column              Non-Null Count  Dtype  \n",
      "---  ------              --------------  -----  \n",
      " 0   id                  21597 non-null  int64  \n",
      " 1   date                21597 non-null  object \n",
      " 2   price               21597 non-null  float64\n",
      " 3   bedrooms            21597 non-null  int64  \n",
      " 4   bathrooms           21597 non-null  float64\n",
      " 5   sqft_living         21597 non-null  int64  \n",
      " 6   sqft_lot            21597 non-null  int64  \n",
      " 7   floors              21597 non-null  float64\n",
      " 8   waterfront          21597 non-null  object \n",
      " 9   view                21597 non-null  object \n",
      " 10  condition           21597 non-null  object \n",
      " 11  grade               21597 non-null  object \n",
      " 12  sqft_above          21597 non-null  int64  \n",
      " 13  sqft_basement       21597 non-null  float64\n",
      " 14  yr_built            21597 non-null  int64  \n",
      " 15  yr_renovated        21597 non-null  float64\n",
      " 16  zipcode             21597 non-null  int64  \n",
      " 17  lat                 21597 non-null  float64\n",
      " 18  long                21597 non-null  float64\n",
      " 19  sqft_living15       21597 non-null  int64  \n",
      " 20  sqft_lot15          21597 non-null  int64  \n",
      " 21  condition_code      21597 non-null  int64  \n",
      " 22  grade_code          21597 non-null  int64  \n",
      " 23  age                 21597 non-null  int64  \n",
      " 24  renovated           21597 non-null  int64  \n",
      " 25  age_of_renovations  21597 non-null  float64\n",
      " 26  waterfront_coded    21597 non-null  int64  \n",
      " 27  view_coded          21597 non-null  int64  \n",
      " 28  lon                 21597 non-null  float64\n",
      " 29  To_drop_place_ID    21597 non-null  float64\n",
      " 30  To_drop_road        21377 non-null  object \n",
      " 31  Type_place          20817 non-null  object \n",
      " 32  city                20817 non-null  object \n",
      " 33  county              21597 non-null  object \n",
      " 34  state               21597 non-null  object \n",
      " 35  suburb              9207 non-null   object \n",
      "dtypes: float64(10), int64(15), object(11)\n",
      "memory usage: 5.9+ MB\n"
     ]
    }
   ],
   "source": [
    "# Merge 2 dataframes and check all columns.\n",
    "df = pd.concat([df,df_geo], axis =1, verify_integrity = True )\n",
    "df.info()"
   ]
  },
  {
   "cell_type": "code",
   "execution_count": 18,
   "id": "eca2bfd2",
   "metadata": {},
   "outputs": [
    {
     "name": "stdout",
     "output_type": "stream",
     "text": [
      "Washington    21597\n",
      "Name: state, dtype: int64\n",
      "King County         21593\n",
      "Pierce County           2\n",
      "Snohomish County        2\n",
      "Name: county, dtype: int64\n"
     ]
    }
   ],
   "source": [
    "# Investigate states and counties for noise.\n",
    "print(df[\"state\"].value_counts()) #all recods from Washington state\n",
    "print(df[\"county\"].value_counts()) # 4 records from different counties. \n"
   ]
  },
  {
   "cell_type": "code",
   "execution_count": 19,
   "id": "97944fcc",
   "metadata": {},
   "outputs": [],
   "source": [
    "#Remove records from other counties\n",
    "df.drop(df[df.county != \"King County\"].index, inplace = True)\n",
    "df.shape\n",
    "#Drop county and state columns to reduce the number of features\n",
    "df.drop(\"state\", axis = 1, inplace = True)\n",
    "df.drop(\"county\", axis = 1, inplace = True)\n"
   ]
  },
  {
   "cell_type": "code",
   "execution_count": 20,
   "id": "3b145731",
   "metadata": {},
   "outputs": [
    {
     "data": {
      "text/plain": [
       "(21593, 34)"
      ]
     },
     "execution_count": 20,
     "metadata": {},
     "output_type": "execute_result"
    }
   ],
   "source": [
    "df.shape"
   ]
  },
  {
   "cell_type": "code",
   "execution_count": 21,
   "id": "73dc4f83",
   "metadata": {},
   "outputs": [
    {
     "name": "stdout",
     "output_type": "stream",
     "text": [
      "The number of records with missing cities 779\n",
      "Missing values are in 3.61 % of data\n"
     ]
    }
   ],
   "source": [
    "# Investigate \"city\" column for missing values\n",
    "print(f\"The number of records with missing cities {sum(df.city.isna())}\") #779 records have no cities in it. \n",
    "print(f\"Missing values are in {round(sum(df.city.isna())/df.shape[0]*100,2)} % of data\")"
   ]
  },
  {
   "cell_type": "code",
   "execution_count": 22,
   "id": "d9980466",
   "metadata": {},
   "outputs": [
    {
     "data": {
      "text/plain": [
       "(20814, 34)"
      ]
     },
     "execution_count": 22,
     "metadata": {},
     "output_type": "execute_result"
    }
   ],
   "source": [
    "#Remove records with missing cities\n",
    "df.drop(df[df.city.isna() == True].index, axis = 0, inplace = True)\n",
    "df.shape"
   ]
  },
  {
   "cell_type": "code",
   "execution_count": 23,
   "id": "1dcd6409",
   "metadata": {},
   "outputs": [
    {
     "name": "stdout",
     "output_type": "stream",
     "text": [
      "The number of records with missing values 0\n"
     ]
    }
   ],
   "source": [
    "# Investigate \"Type_place\" column for missing values\n",
    "print(f\"The number of records with missing values {sum(df.Type_place.isna())}\")"
   ]
  },
  {
   "cell_type": "code",
   "execution_count": 24,
   "id": "9c617aee",
   "metadata": {},
   "outputs": [
    {
     "name": "stdout",
     "output_type": "stream",
     "text": [
      "The number of records with missing values 11942\n",
      "Missing \"suburb\"values are in 57.37 % of data\n",
      "Missing \"suburb\" values for cities are in  70.54 % of records\n"
     ]
    }
   ],
   "source": [
    "# Investigate \"suburb\" column for missing values\n",
    "print(f\"The number of records with missing values {sum(df.suburb.isna())}\")\n",
    "print(f\"Missing \\\"suburb\\\"values are in {round(sum(df.suburb.isna())/df.shape[0]*100,2)} % of data\")\n",
    "df_geo.suburb.value_counts() #There is no strong patterns in this data\n",
    "print(\"Missing \\\"suburb\\\" values for cities are in \", round(sum(df[df.Type_place == \"city\"].suburb.value_counts())/df[df.Type_place == \"city\"].shape[0]*100,2), \"% of records\")\n",
    "# We won't proceed with this data\n"
   ]
  },
  {
   "cell_type": "code",
   "execution_count": 25,
   "id": "70e1058b",
   "metadata": {},
   "outputs": [],
   "source": [
    "# Remove outliers in bedrooms\n",
    "df.drop(df[(df.bedrooms == 33)].index, axis = 0, inplace = True)\n",
    "df.drop(df[(df.bedrooms == 11)].index, axis = 0, inplace = True)\n",
    "df.drop(df[(df.bedrooms == 10)].index, axis = 0, inplace = True)"
   ]
  },
  {
   "cell_type": "code",
   "execution_count": 26,
   "id": "7999202f",
   "metadata": {},
   "outputs": [],
   "source": [
    "# Drop all cathegorical values that were coverted to numerical\n",
    "to_drop_cat = [\"date\", \"waterfront\", \"view\", \"condition\", \"grade\"]\n",
    "df.drop(to_drop_cat, axis = 1, inplace = True)"
   ]
  },
  {
   "cell_type": "code",
   "execution_count": 27,
   "id": "a65e687f",
   "metadata": {},
   "outputs": [],
   "source": [
    "#reset indexes\n",
    "df_fin = df.reset_index().drop(\"index\", axis = 1)"
   ]
  },
  {
   "cell_type": "code",
   "execution_count": 28,
   "id": "0ac7eaf6",
   "metadata": {},
   "outputs": [],
   "source": [
    "# Different type of geo columns\n",
    "Geo_columns_basic_all = [\"Type_place\", \"city\"]\n",
    "Geo_columns_basic_type = [\"Type_place\"]\n",
    "Geo_columns_basic_city_names = [\"city\"]\n",
    "Geo_columns_advanced = [\"suburb\"]\n",
    "Geo_columns_drop = [\"To_drop_place_ID\", \"To_drop_road\"]"
   ]
  },
  {
   "cell_type": "code",
   "execution_count": 29,
   "id": "b13bcd0c",
   "metadata": {},
   "outputs": [],
   "source": [
    "# Setup the type of geo columns that will be used for modelling\n",
    "# Model one : encode each city into our dataframe\n",
    "modeling_columns = Geo_columns_basic_city_names\n",
    "Geo_columns_drop = [column for column in list(df_fin.columns) if ((column not in modeling_columns)  and (column != \"id\"))]\n",
    "\n",
    "# Setting up categorical data for encoding\n",
    "X_cat_geo = df_fin.drop(Geo_columns_drop, axis = 1)\n"
   ]
  },
  {
   "cell_type": "code",
   "execution_count": 30,
   "id": "c810a8fc",
   "metadata": {},
   "outputs": [
    {
     "data": {
      "text/plain": [
       "OneHotEncoder(handle_unknown='ignore')"
      ]
     },
     "execution_count": 30,
     "metadata": {},
     "output_type": "execute_result"
    }
   ],
   "source": [
    "# Setup One Hot Encoder \n",
    "encoder_geo_basic = OneHotEncoder(handle_unknown = \"ignore\")\n",
    "fit_df = X_cat_geo.drop(\"id\", axis = 1)\n",
    "encoder_geo_basic.fit(fit_df)"
   ]
  },
  {
   "cell_type": "code",
   "execution_count": 31,
   "id": "542abebf",
   "metadata": {},
   "outputs": [],
   "source": [
    "# Prepare transformed dataset\n",
    "X_cat_transf=encoder_geo_basic.transform(fit_df)\n",
    "X_geo_df = pd.DataFrame(X_cat_transf.todense(), columns = encoder_geo_basic.get_feature_names())\n",
    "\n",
    "#X_geo_df[\"id\"] = X_cat_geo[\"id\"]\n",
    "df_cities_columns = encoder_geo_basic.get_feature_names() # New added column names. If you need them later on.\n",
    "df_cities = pd.concat([df_fin, X_geo_df], axis = 1)       # DF with coded cities/towns/villages\n"
   ]
  },
  {
   "cell_type": "code",
   "execution_count": 32,
   "id": "44f3073d",
   "metadata": {},
   "outputs": [],
   "source": [
    "# Setup the type of geo columns that will be used for modelling\n",
    "# Model two : encode only size of city into model\n",
    "modeling_columns = Geo_columns_basic_type\n",
    "Geo_columns_drop = [column for column in list(df_fin.columns) if ((column not in modeling_columns)  and (column != \"id\"))]\n",
    "\n",
    "# Seting up data categorical data for encoding\n",
    "X_cat_geo = df_fin.drop(Geo_columns_drop, axis = 1)\n"
   ]
  },
  {
   "cell_type": "code",
   "execution_count": 33,
   "id": "d787d3a9",
   "metadata": {},
   "outputs": [
    {
     "data": {
      "text/plain": [
       "OneHotEncoder(handle_unknown='ignore')"
      ]
     },
     "execution_count": 33,
     "metadata": {},
     "output_type": "execute_result"
    }
   ],
   "source": [
    "# Setup One Hot Encoder \n",
    "encoder_geo_basic = OneHotEncoder(handle_unknown = \"ignore\")\n",
    "fit_df = X_cat_geo.drop(\"id\", axis = 1)\n",
    "encoder_geo_basic.fit(fit_df)"
   ]
  },
  {
   "cell_type": "code",
   "execution_count": 34,
   "id": "75e7e9d2",
   "metadata": {},
   "outputs": [
    {
     "data": {
      "text/html": [
       "<div>\n",
       "<style scoped>\n",
       "    .dataframe tbody tr th:only-of-type {\n",
       "        vertical-align: middle;\n",
       "    }\n",
       "\n",
       "    .dataframe tbody tr th {\n",
       "        vertical-align: top;\n",
       "    }\n",
       "\n",
       "    .dataframe thead th {\n",
       "        text-align: right;\n",
       "    }\n",
       "</style>\n",
       "<table border=\"1\" class=\"dataframe\">\n",
       "  <thead>\n",
       "    <tr style=\"text-align: right;\">\n",
       "      <th></th>\n",
       "      <th>id</th>\n",
       "      <th>price</th>\n",
       "      <th>bedrooms</th>\n",
       "      <th>bathrooms</th>\n",
       "      <th>sqft_living</th>\n",
       "      <th>sqft_lot</th>\n",
       "      <th>floors</th>\n",
       "      <th>sqft_above</th>\n",
       "      <th>sqft_basement</th>\n",
       "      <th>yr_built</th>\n",
       "      <th>...</th>\n",
       "      <th>view_coded</th>\n",
       "      <th>lon</th>\n",
       "      <th>To_drop_place_ID</th>\n",
       "      <th>To_drop_road</th>\n",
       "      <th>Type_place</th>\n",
       "      <th>city</th>\n",
       "      <th>suburb</th>\n",
       "      <th>x0_city</th>\n",
       "      <th>x0_town</th>\n",
       "      <th>x0_village</th>\n",
       "    </tr>\n",
       "  </thead>\n",
       "  <tbody>\n",
       "    <tr>\n",
       "      <th>0</th>\n",
       "      <td>7129300520</td>\n",
       "      <td>221900.0</td>\n",
       "      <td>3</td>\n",
       "      <td>1.00</td>\n",
       "      <td>1180</td>\n",
       "      <td>5650</td>\n",
       "      <td>1.0</td>\n",
       "      <td>1180</td>\n",
       "      <td>0.0</td>\n",
       "      <td>1955</td>\n",
       "      <td>...</td>\n",
       "      <td>0</td>\n",
       "      <td>-122.257</td>\n",
       "      <td>159583259.0</td>\n",
       "      <td>61st Avenue South</td>\n",
       "      <td>city</td>\n",
       "      <td>Seattle</td>\n",
       "      <td>NaN</td>\n",
       "      <td>1.0</td>\n",
       "      <td>0.0</td>\n",
       "      <td>0.0</td>\n",
       "    </tr>\n",
       "    <tr>\n",
       "      <th>1</th>\n",
       "      <td>6414100192</td>\n",
       "      <td>538000.0</td>\n",
       "      <td>3</td>\n",
       "      <td>2.25</td>\n",
       "      <td>2570</td>\n",
       "      <td>7242</td>\n",
       "      <td>2.0</td>\n",
       "      <td>2170</td>\n",
       "      <td>400.0</td>\n",
       "      <td>1951</td>\n",
       "      <td>...</td>\n",
       "      <td>0</td>\n",
       "      <td>-122.319</td>\n",
       "      <td>159668720.0</td>\n",
       "      <td>Northeast 127th Street</td>\n",
       "      <td>city</td>\n",
       "      <td>Seattle</td>\n",
       "      <td>Northgate</td>\n",
       "      <td>1.0</td>\n",
       "      <td>0.0</td>\n",
       "      <td>0.0</td>\n",
       "    </tr>\n",
       "    <tr>\n",
       "      <th>2</th>\n",
       "      <td>5631500400</td>\n",
       "      <td>180000.0</td>\n",
       "      <td>2</td>\n",
       "      <td>1.00</td>\n",
       "      <td>770</td>\n",
       "      <td>10000</td>\n",
       "      <td>1.0</td>\n",
       "      <td>770</td>\n",
       "      <td>0.0</td>\n",
       "      <td>1933</td>\n",
       "      <td>...</td>\n",
       "      <td>0</td>\n",
       "      <td>-122.233</td>\n",
       "      <td>74808506.0</td>\n",
       "      <td>81st Avenue Northeast</td>\n",
       "      <td>town</td>\n",
       "      <td>Kenmore</td>\n",
       "      <td>Moorlands</td>\n",
       "      <td>0.0</td>\n",
       "      <td>1.0</td>\n",
       "      <td>0.0</td>\n",
       "    </tr>\n",
       "    <tr>\n",
       "      <th>3</th>\n",
       "      <td>2487200875</td>\n",
       "      <td>604000.0</td>\n",
       "      <td>4</td>\n",
       "      <td>3.00</td>\n",
       "      <td>1960</td>\n",
       "      <td>5000</td>\n",
       "      <td>1.0</td>\n",
       "      <td>1050</td>\n",
       "      <td>910.0</td>\n",
       "      <td>1965</td>\n",
       "      <td>...</td>\n",
       "      <td>0</td>\n",
       "      <td>-122.393</td>\n",
       "      <td>156392831.0</td>\n",
       "      <td>Fauntleroy Way Southwest</td>\n",
       "      <td>city</td>\n",
       "      <td>Seattle</td>\n",
       "      <td>Fauntleroy</td>\n",
       "      <td>1.0</td>\n",
       "      <td>0.0</td>\n",
       "      <td>0.0</td>\n",
       "    </tr>\n",
       "    <tr>\n",
       "      <th>4</th>\n",
       "      <td>1954400510</td>\n",
       "      <td>510000.0</td>\n",
       "      <td>3</td>\n",
       "      <td>2.00</td>\n",
       "      <td>1680</td>\n",
       "      <td>8080</td>\n",
       "      <td>1.0</td>\n",
       "      <td>1680</td>\n",
       "      <td>0.0</td>\n",
       "      <td>1987</td>\n",
       "      <td>...</td>\n",
       "      <td>0</td>\n",
       "      <td>-122.045</td>\n",
       "      <td>293729110.0</td>\n",
       "      <td>221st Avenue Northeast</td>\n",
       "      <td>town</td>\n",
       "      <td>Sammamish</td>\n",
       "      <td>NaN</td>\n",
       "      <td>0.0</td>\n",
       "      <td>1.0</td>\n",
       "      <td>0.0</td>\n",
       "    </tr>\n",
       "    <tr>\n",
       "      <th>...</th>\n",
       "      <td>...</td>\n",
       "      <td>...</td>\n",
       "      <td>...</td>\n",
       "      <td>...</td>\n",
       "      <td>...</td>\n",
       "      <td>...</td>\n",
       "      <td>...</td>\n",
       "      <td>...</td>\n",
       "      <td>...</td>\n",
       "      <td>...</td>\n",
       "      <td>...</td>\n",
       "      <td>...</td>\n",
       "      <td>...</td>\n",
       "      <td>...</td>\n",
       "      <td>...</td>\n",
       "      <td>...</td>\n",
       "      <td>...</td>\n",
       "      <td>...</td>\n",
       "      <td>...</td>\n",
       "      <td>...</td>\n",
       "      <td>...</td>\n",
       "    </tr>\n",
       "    <tr>\n",
       "      <th>20804</th>\n",
       "      <td>263000018</td>\n",
       "      <td>360000.0</td>\n",
       "      <td>3</td>\n",
       "      <td>2.50</td>\n",
       "      <td>1530</td>\n",
       "      <td>1131</td>\n",
       "      <td>3.0</td>\n",
       "      <td>1530</td>\n",
       "      <td>0.0</td>\n",
       "      <td>2009</td>\n",
       "      <td>...</td>\n",
       "      <td>0</td>\n",
       "      <td>-122.346</td>\n",
       "      <td>20331941.0</td>\n",
       "      <td>North 97th Street</td>\n",
       "      <td>city</td>\n",
       "      <td>Seattle</td>\n",
       "      <td>Greenwood</td>\n",
       "      <td>1.0</td>\n",
       "      <td>0.0</td>\n",
       "      <td>0.0</td>\n",
       "    </tr>\n",
       "    <tr>\n",
       "      <th>20805</th>\n",
       "      <td>6600060120</td>\n",
       "      <td>400000.0</td>\n",
       "      <td>4</td>\n",
       "      <td>2.50</td>\n",
       "      <td>2310</td>\n",
       "      <td>5813</td>\n",
       "      <td>2.0</td>\n",
       "      <td>2310</td>\n",
       "      <td>0.0</td>\n",
       "      <td>2014</td>\n",
       "      <td>...</td>\n",
       "      <td>0</td>\n",
       "      <td>-122.362</td>\n",
       "      <td>231509570.0</td>\n",
       "      <td>Southwest 103rd Place</td>\n",
       "      <td>city</td>\n",
       "      <td>Seattle</td>\n",
       "      <td>White Center</td>\n",
       "      <td>1.0</td>\n",
       "      <td>0.0</td>\n",
       "      <td>0.0</td>\n",
       "    </tr>\n",
       "    <tr>\n",
       "      <th>20806</th>\n",
       "      <td>1523300141</td>\n",
       "      <td>402101.0</td>\n",
       "      <td>2</td>\n",
       "      <td>0.75</td>\n",
       "      <td>1020</td>\n",
       "      <td>1350</td>\n",
       "      <td>2.0</td>\n",
       "      <td>1020</td>\n",
       "      <td>0.0</td>\n",
       "      <td>2009</td>\n",
       "      <td>...</td>\n",
       "      <td>0</td>\n",
       "      <td>-122.299</td>\n",
       "      <td>157689516.0</td>\n",
       "      <td>26th Avenue South</td>\n",
       "      <td>city</td>\n",
       "      <td>Seattle</td>\n",
       "      <td>Leschi</td>\n",
       "      <td>1.0</td>\n",
       "      <td>0.0</td>\n",
       "      <td>0.0</td>\n",
       "    </tr>\n",
       "    <tr>\n",
       "      <th>20807</th>\n",
       "      <td>291310100</td>\n",
       "      <td>400000.0</td>\n",
       "      <td>3</td>\n",
       "      <td>2.50</td>\n",
       "      <td>1600</td>\n",
       "      <td>2388</td>\n",
       "      <td>2.0</td>\n",
       "      <td>1600</td>\n",
       "      <td>0.0</td>\n",
       "      <td>2004</td>\n",
       "      <td>...</td>\n",
       "      <td>0</td>\n",
       "      <td>-122.069</td>\n",
       "      <td>293824524.0</td>\n",
       "      <td>Northwest Boulder Way Drive</td>\n",
       "      <td>town</td>\n",
       "      <td>Issaquah</td>\n",
       "      <td>NaN</td>\n",
       "      <td>0.0</td>\n",
       "      <td>1.0</td>\n",
       "      <td>0.0</td>\n",
       "    </tr>\n",
       "    <tr>\n",
       "      <th>20808</th>\n",
       "      <td>1523300157</td>\n",
       "      <td>325000.0</td>\n",
       "      <td>2</td>\n",
       "      <td>0.75</td>\n",
       "      <td>1020</td>\n",
       "      <td>1076</td>\n",
       "      <td>2.0</td>\n",
       "      <td>1020</td>\n",
       "      <td>0.0</td>\n",
       "      <td>2008</td>\n",
       "      <td>...</td>\n",
       "      <td>0</td>\n",
       "      <td>-122.299</td>\n",
       "      <td>157811911.0</td>\n",
       "      <td>26th Avenue South</td>\n",
       "      <td>city</td>\n",
       "      <td>Seattle</td>\n",
       "      <td>Leschi</td>\n",
       "      <td>1.0</td>\n",
       "      <td>0.0</td>\n",
       "      <td>0.0</td>\n",
       "    </tr>\n",
       "  </tbody>\n",
       "</table>\n",
       "<p>20809 rows × 32 columns</p>\n",
       "</div>"
      ],
      "text/plain": [
       "               id     price  bedrooms  bathrooms  sqft_living  sqft_lot  \\\n",
       "0      7129300520  221900.0         3       1.00         1180      5650   \n",
       "1      6414100192  538000.0         3       2.25         2570      7242   \n",
       "2      5631500400  180000.0         2       1.00          770     10000   \n",
       "3      2487200875  604000.0         4       3.00         1960      5000   \n",
       "4      1954400510  510000.0         3       2.00         1680      8080   \n",
       "...           ...       ...       ...        ...          ...       ...   \n",
       "20804   263000018  360000.0         3       2.50         1530      1131   \n",
       "20805  6600060120  400000.0         4       2.50         2310      5813   \n",
       "20806  1523300141  402101.0         2       0.75         1020      1350   \n",
       "20807   291310100  400000.0         3       2.50         1600      2388   \n",
       "20808  1523300157  325000.0         2       0.75         1020      1076   \n",
       "\n",
       "       floors  sqft_above  sqft_basement  yr_built  ...  view_coded      lon  \\\n",
       "0         1.0        1180            0.0      1955  ...           0 -122.257   \n",
       "1         2.0        2170          400.0      1951  ...           0 -122.319   \n",
       "2         1.0         770            0.0      1933  ...           0 -122.233   \n",
       "3         1.0        1050          910.0      1965  ...           0 -122.393   \n",
       "4         1.0        1680            0.0      1987  ...           0 -122.045   \n",
       "...       ...         ...            ...       ...  ...         ...      ...   \n",
       "20804     3.0        1530            0.0      2009  ...           0 -122.346   \n",
       "20805     2.0        2310            0.0      2014  ...           0 -122.362   \n",
       "20806     2.0        1020            0.0      2009  ...           0 -122.299   \n",
       "20807     2.0        1600            0.0      2004  ...           0 -122.069   \n",
       "20808     2.0        1020            0.0      2008  ...           0 -122.299   \n",
       "\n",
       "       To_drop_place_ID                 To_drop_road  Type_place       city  \\\n",
       "0           159583259.0            61st Avenue South        city    Seattle   \n",
       "1           159668720.0       Northeast 127th Street        city    Seattle   \n",
       "2            74808506.0        81st Avenue Northeast        town    Kenmore   \n",
       "3           156392831.0     Fauntleroy Way Southwest        city    Seattle   \n",
       "4           293729110.0       221st Avenue Northeast        town  Sammamish   \n",
       "...                 ...                          ...         ...        ...   \n",
       "20804        20331941.0            North 97th Street        city    Seattle   \n",
       "20805       231509570.0        Southwest 103rd Place        city    Seattle   \n",
       "20806       157689516.0            26th Avenue South        city    Seattle   \n",
       "20807       293824524.0  Northwest Boulder Way Drive        town   Issaquah   \n",
       "20808       157811911.0            26th Avenue South        city    Seattle   \n",
       "\n",
       "             suburb  x0_city  x0_town  x0_village  \n",
       "0               NaN      1.0      0.0         0.0  \n",
       "1         Northgate      1.0      0.0         0.0  \n",
       "2         Moorlands      0.0      1.0         0.0  \n",
       "3        Fauntleroy      1.0      0.0         0.0  \n",
       "4               NaN      0.0      1.0         0.0  \n",
       "...             ...      ...      ...         ...  \n",
       "20804     Greenwood      1.0      0.0         0.0  \n",
       "20805  White Center      1.0      0.0         0.0  \n",
       "20806        Leschi      1.0      0.0         0.0  \n",
       "20807           NaN      0.0      1.0         0.0  \n",
       "20808        Leschi      1.0      0.0         0.0  \n",
       "\n",
       "[20809 rows x 32 columns]"
      ]
     },
     "execution_count": 34,
     "metadata": {},
     "output_type": "execute_result"
    }
   ],
   "source": [
    "# Prepare transformed dataset\n",
    "X_cat_transf=encoder_geo_basic.transform(fit_df)\n",
    "X_geo_df = pd.DataFrame(X_cat_transf.todense(), columns = encoder_geo_basic.get_feature_names())\n",
    "\n",
    "#X_geo_df[\"id\"] = X_cat_geo[\"id\"]\n",
    "df_types_columns = encoder_geo_basic.get_feature_names() # New added column names. If you need them later on.\n",
    "df_types = pd.concat([df_fin, X_geo_df], axis = 1)       # DF with coded cities/towns/villages\n",
    "df_types"
   ]
  },
  {
   "cell_type": "code",
   "execution_count": 35,
   "id": "9a1a7be4",
   "metadata": {},
   "outputs": [
    {
     "name": "stdout",
     "output_type": "stream",
     "text": [
      "<class 'pandas.core.frame.DataFrame'>\n",
      "RangeIndex: 20809 entries, 0 to 20808\n",
      "Data columns (total 77 columns):\n",
      " #   Column                      Non-Null Count  Dtype  \n",
      "---  ------                      --------------  -----  \n",
      " 0   id                          20809 non-null  int64  \n",
      " 1   price                       20809 non-null  float64\n",
      " 2   bedrooms                    20809 non-null  int64  \n",
      " 3   bathrooms                   20809 non-null  float64\n",
      " 4   sqft_living                 20809 non-null  int64  \n",
      " 5   sqft_lot                    20809 non-null  int64  \n",
      " 6   floors                      20809 non-null  float64\n",
      " 7   sqft_above                  20809 non-null  int64  \n",
      " 8   sqft_basement               20809 non-null  float64\n",
      " 9   yr_built                    20809 non-null  int64  \n",
      " 10  yr_renovated                20809 non-null  float64\n",
      " 11  zipcode                     20809 non-null  int64  \n",
      " 12  lat                         20809 non-null  float64\n",
      " 13  long                        20809 non-null  float64\n",
      " 14  sqft_living15               20809 non-null  int64  \n",
      " 15  sqft_lot15                  20809 non-null  int64  \n",
      " 16  condition_code              20809 non-null  int64  \n",
      " 17  grade_code                  20809 non-null  int64  \n",
      " 18  age                         20809 non-null  int64  \n",
      " 19  renovated                   20809 non-null  int64  \n",
      " 20  age_of_renovations          20809 non-null  float64\n",
      " 21  waterfront_coded            20809 non-null  int64  \n",
      " 22  view_coded                  20809 non-null  int64  \n",
      " 23  lon                         20809 non-null  float64\n",
      " 24  To_drop_place_ID            20809 non-null  float64\n",
      " 25  To_drop_road                20614 non-null  object \n",
      " 26  Type_place                  20809 non-null  object \n",
      " 27  city                        20809 non-null  object \n",
      " 28  suburb                      8867 non-null   object \n",
      " 29  x0_Algona                   20809 non-null  float64\n",
      " 30  x0_Auburn                   20809 non-null  float64\n",
      " 31  x0_Beaux Arts Village       20809 non-null  float64\n",
      " 32  x0_Bellevue                 20809 non-null  float64\n",
      " 33  x0_Black Diamond            20809 non-null  float64\n",
      " 34  x0_Bothell                  20809 non-null  float64\n",
      " 35  x0_Burien                   20809 non-null  float64\n",
      " 36  x0_Carnation                20809 non-null  float64\n",
      " 37  x0_Clyde Hill               20809 non-null  float64\n",
      " 38  x0_Cottage Lake             20809 non-null  float64\n",
      " 39  x0_Covington                20809 non-null  float64\n",
      " 40  x0_Des Moines               20809 non-null  float64\n",
      " 41  x0_Duvall                   20809 non-null  float64\n",
      " 42  x0_Edmonds                  20809 non-null  float64\n",
      " 43  x0_Enumclaw                 20809 non-null  float64\n",
      " 44  x0_Fall City                20809 non-null  float64\n",
      " 45  x0_Federal Way              20809 non-null  float64\n",
      " 46  x0_Hunts Point              20809 non-null  float64\n",
      " 47  x0_Issaquah                 20809 non-null  float64\n",
      " 48  x0_Kenmore                  20809 non-null  float64\n",
      " 49  x0_Kent                     20809 non-null  float64\n",
      " 50  x0_Kirkland                 20809 non-null  float64\n",
      " 51  x0_Lake Forest Park         20809 non-null  float64\n",
      " 52  x0_Lakeland North           20809 non-null  float64\n",
      " 53  x0_Lakeland South           20809 non-null  float64\n",
      " 54  x0_Maple Valley             20809 non-null  float64\n",
      " 55  x0_Medina                   20809 non-null  float64\n",
      " 56  x0_Mercer Island            20809 non-null  float64\n",
      " 57  x0_Milton                   20809 non-null  float64\n",
      " 58  x0_Newcastle                20809 non-null  float64\n",
      " 59  x0_Normandy Park            20809 non-null  float64\n",
      " 60  x0_North Bend               20809 non-null  float64\n",
      " 61  x0_Pacific                  20809 non-null  float64\n",
      " 62  x0_Preston                  20809 non-null  float64\n",
      " 63  x0_Ravensdale               20809 non-null  float64\n",
      " 64  x0_Redmond                  20809 non-null  float64\n",
      " 65  x0_Renton                   20809 non-null  float64\n",
      " 66  x0_Sammamish                20809 non-null  float64\n",
      " 67  x0_SeaTac                   20809 non-null  float64\n",
      " 68  x0_Seattle                  20809 non-null  float64\n",
      " 69  x0_Shoreline                20809 non-null  float64\n",
      " 70  x0_Skykomish                20809 non-null  float64\n",
      " 71  x0_Snoqualmie               20809 non-null  float64\n",
      " 72  x0_Tukwila                  20809 non-null  float64\n",
      " 73  x0_Union Hill-Novelty Hill  20809 non-null  float64\n",
      " 74  x0_Vashon                   20809 non-null  float64\n",
      " 75  x0_Woodinville              20809 non-null  float64\n",
      " 76  x0_Yarrow Point             20809 non-null  float64\n",
      "dtypes: float64(58), int64(15), object(4)\n",
      "memory usage: 12.2+ MB\n"
     ]
    }
   ],
   "source": [
    "df_cities.info()"
   ]
  },
  {
   "cell_type": "code",
   "execution_count": 36,
   "id": "6d785707",
   "metadata": {},
   "outputs": [],
   "source": [
    "# Drob geo categorical columns that were transferred to numerical.\n",
    "to_drop_index = [(number) for number, column in enumerate(df_cities.dtypes) if column == 'O']\n",
    "to_drop_columns = list(df_cities.columns[to_drop_index])\n",
    "df_cities = df_cities.drop(to_drop_columns, axis =1)\n",
    "\n",
    "to_drop_index = [(number) for number, column in enumerate(df_types.dtypes) if column == 'O']\n",
    "to_drop_columns = list(df_types.columns[to_drop_index])\n",
    "df_types = df_types.drop(to_drop_columns, axis =1)\n",
    "\n"
   ]
  },
  {
   "cell_type": "code",
   "execution_count": 37,
   "id": "306a48d1",
   "metadata": {},
   "outputs": [],
   "source": [
    "# Final clean_up\n",
    "final_drop = [\"zipcode\", \"id\", \"zipcode\", \"lat\", \"long\", \"lon\",\"To_drop_place_ID\"]\n",
    "df_cities = df_cities.drop(final_drop, axis = 1)\n",
    "df_types = df_types.drop(final_drop, axis = 1)"
   ]
  },
  {
   "cell_type": "code",
   "execution_count": 38,
   "id": "3af5d7f3",
   "metadata": {},
   "outputs": [
    {
     "name": "stdout",
     "output_type": "stream",
     "text": [
      "<class 'pandas.core.frame.DataFrame'>\n",
      "RangeIndex: 20809 entries, 0 to 20808\n",
      "Data columns (total 67 columns):\n",
      " #   Column                      Non-Null Count  Dtype  \n",
      "---  ------                      --------------  -----  \n",
      " 0   price                       20809 non-null  float64\n",
      " 1   bedrooms                    20809 non-null  int64  \n",
      " 2   bathrooms                   20809 non-null  float64\n",
      " 3   sqft_living                 20809 non-null  int64  \n",
      " 4   sqft_lot                    20809 non-null  int64  \n",
      " 5   floors                      20809 non-null  float64\n",
      " 6   sqft_above                  20809 non-null  int64  \n",
      " 7   sqft_basement               20809 non-null  float64\n",
      " 8   yr_built                    20809 non-null  int64  \n",
      " 9   yr_renovated                20809 non-null  float64\n",
      " 10  sqft_living15               20809 non-null  int64  \n",
      " 11  sqft_lot15                  20809 non-null  int64  \n",
      " 12  condition_code              20809 non-null  int64  \n",
      " 13  grade_code                  20809 non-null  int64  \n",
      " 14  age                         20809 non-null  int64  \n",
      " 15  renovated                   20809 non-null  int64  \n",
      " 16  age_of_renovations          20809 non-null  float64\n",
      " 17  waterfront_coded            20809 non-null  int64  \n",
      " 18  view_coded                  20809 non-null  int64  \n",
      " 19  x0_Algona                   20809 non-null  float64\n",
      " 20  x0_Auburn                   20809 non-null  float64\n",
      " 21  x0_Beaux Arts Village       20809 non-null  float64\n",
      " 22  x0_Bellevue                 20809 non-null  float64\n",
      " 23  x0_Black Diamond            20809 non-null  float64\n",
      " 24  x0_Bothell                  20809 non-null  float64\n",
      " 25  x0_Burien                   20809 non-null  float64\n",
      " 26  x0_Carnation                20809 non-null  float64\n",
      " 27  x0_Clyde Hill               20809 non-null  float64\n",
      " 28  x0_Cottage Lake             20809 non-null  float64\n",
      " 29  x0_Covington                20809 non-null  float64\n",
      " 30  x0_Des Moines               20809 non-null  float64\n",
      " 31  x0_Duvall                   20809 non-null  float64\n",
      " 32  x0_Edmonds                  20809 non-null  float64\n",
      " 33  x0_Enumclaw                 20809 non-null  float64\n",
      " 34  x0_Fall City                20809 non-null  float64\n",
      " 35  x0_Federal Way              20809 non-null  float64\n",
      " 36  x0_Hunts Point              20809 non-null  float64\n",
      " 37  x0_Issaquah                 20809 non-null  float64\n",
      " 38  x0_Kenmore                  20809 non-null  float64\n",
      " 39  x0_Kent                     20809 non-null  float64\n",
      " 40  x0_Kirkland                 20809 non-null  float64\n",
      " 41  x0_Lake Forest Park         20809 non-null  float64\n",
      " 42  x0_Lakeland North           20809 non-null  float64\n",
      " 43  x0_Lakeland South           20809 non-null  float64\n",
      " 44  x0_Maple Valley             20809 non-null  float64\n",
      " 45  x0_Medina                   20809 non-null  float64\n",
      " 46  x0_Mercer Island            20809 non-null  float64\n",
      " 47  x0_Milton                   20809 non-null  float64\n",
      " 48  x0_Newcastle                20809 non-null  float64\n",
      " 49  x0_Normandy Park            20809 non-null  float64\n",
      " 50  x0_North Bend               20809 non-null  float64\n",
      " 51  x0_Pacific                  20809 non-null  float64\n",
      " 52  x0_Preston                  20809 non-null  float64\n",
      " 53  x0_Ravensdale               20809 non-null  float64\n",
      " 54  x0_Redmond                  20809 non-null  float64\n",
      " 55  x0_Renton                   20809 non-null  float64\n",
      " 56  x0_Sammamish                20809 non-null  float64\n",
      " 57  x0_SeaTac                   20809 non-null  float64\n",
      " 58  x0_Seattle                  20809 non-null  float64\n",
      " 59  x0_Shoreline                20809 non-null  float64\n",
      " 60  x0_Skykomish                20809 non-null  float64\n",
      " 61  x0_Snoqualmie               20809 non-null  float64\n",
      " 62  x0_Tukwila                  20809 non-null  float64\n",
      " 63  x0_Union Hill-Novelty Hill  20809 non-null  float64\n",
      " 64  x0_Vashon                   20809 non-null  float64\n",
      " 65  x0_Woodinville              20809 non-null  float64\n",
      " 66  x0_Yarrow Point             20809 non-null  float64\n",
      "dtypes: float64(54), int64(13)\n",
      "memory usage: 10.6 MB\n"
     ]
    }
   ],
   "source": [
    "# Output from data cleaning: 2 dataframes, cleaned from noise and with corrected data.\n",
    "# df_cities - dataframe with encoded cities where property is located\n",
    "# df_types - dataframe with encoded type of location (city, town or village)\n",
    "\n",
    "df_cities\n",
    "df_types\n",
    "df_cities.info()"
   ]
  },
  {
   "cell_type": "code",
   "execution_count": 39,
   "id": "e6cb2130",
   "metadata": {},
   "outputs": [
    {
     "data": {
      "text/html": [
       "<div>\n",
       "<style scoped>\n",
       "    .dataframe tbody tr th:only-of-type {\n",
       "        vertical-align: middle;\n",
       "    }\n",
       "\n",
       "    .dataframe tbody tr th {\n",
       "        vertical-align: top;\n",
       "    }\n",
       "\n",
       "    .dataframe thead th {\n",
       "        text-align: right;\n",
       "    }\n",
       "</style>\n",
       "<table border=\"1\" class=\"dataframe\">\n",
       "  <thead>\n",
       "    <tr style=\"text-align: right;\">\n",
       "      <th></th>\n",
       "      <th>price</th>\n",
       "      <th>bedrooms</th>\n",
       "      <th>bathrooms</th>\n",
       "      <th>sqft_living</th>\n",
       "      <th>sqft_lot</th>\n",
       "      <th>floors</th>\n",
       "      <th>sqft_above</th>\n",
       "      <th>sqft_basement</th>\n",
       "      <th>yr_built</th>\n",
       "      <th>yr_renovated</th>\n",
       "      <th>...</th>\n",
       "      <th>x0_SeaTac</th>\n",
       "      <th>x0_Seattle</th>\n",
       "      <th>x0_Shoreline</th>\n",
       "      <th>x0_Skykomish</th>\n",
       "      <th>x0_Snoqualmie</th>\n",
       "      <th>x0_Tukwila</th>\n",
       "      <th>x0_Union Hill-Novelty Hill</th>\n",
       "      <th>x0_Vashon</th>\n",
       "      <th>x0_Woodinville</th>\n",
       "      <th>x0_Yarrow Point</th>\n",
       "    </tr>\n",
       "  </thead>\n",
       "  <tbody>\n",
       "    <tr>\n",
       "      <th>0</th>\n",
       "      <td>221900.0</td>\n",
       "      <td>3</td>\n",
       "      <td>1.00</td>\n",
       "      <td>1180</td>\n",
       "      <td>5650</td>\n",
       "      <td>1.0</td>\n",
       "      <td>1180</td>\n",
       "      <td>0.0</td>\n",
       "      <td>1955</td>\n",
       "      <td>0.0</td>\n",
       "      <td>...</td>\n",
       "      <td>0.0</td>\n",
       "      <td>1.0</td>\n",
       "      <td>0.0</td>\n",
       "      <td>0.0</td>\n",
       "      <td>0.0</td>\n",
       "      <td>0.0</td>\n",
       "      <td>0.0</td>\n",
       "      <td>0.0</td>\n",
       "      <td>0.0</td>\n",
       "      <td>0.0</td>\n",
       "    </tr>\n",
       "    <tr>\n",
       "      <th>1</th>\n",
       "      <td>538000.0</td>\n",
       "      <td>3</td>\n",
       "      <td>2.25</td>\n",
       "      <td>2570</td>\n",
       "      <td>7242</td>\n",
       "      <td>2.0</td>\n",
       "      <td>2170</td>\n",
       "      <td>400.0</td>\n",
       "      <td>1951</td>\n",
       "      <td>1991.0</td>\n",
       "      <td>...</td>\n",
       "      <td>0.0</td>\n",
       "      <td>1.0</td>\n",
       "      <td>0.0</td>\n",
       "      <td>0.0</td>\n",
       "      <td>0.0</td>\n",
       "      <td>0.0</td>\n",
       "      <td>0.0</td>\n",
       "      <td>0.0</td>\n",
       "      <td>0.0</td>\n",
       "      <td>0.0</td>\n",
       "    </tr>\n",
       "    <tr>\n",
       "      <th>2</th>\n",
       "      <td>180000.0</td>\n",
       "      <td>2</td>\n",
       "      <td>1.00</td>\n",
       "      <td>770</td>\n",
       "      <td>10000</td>\n",
       "      <td>1.0</td>\n",
       "      <td>770</td>\n",
       "      <td>0.0</td>\n",
       "      <td>1933</td>\n",
       "      <td>0.0</td>\n",
       "      <td>...</td>\n",
       "      <td>0.0</td>\n",
       "      <td>0.0</td>\n",
       "      <td>0.0</td>\n",
       "      <td>0.0</td>\n",
       "      <td>0.0</td>\n",
       "      <td>0.0</td>\n",
       "      <td>0.0</td>\n",
       "      <td>0.0</td>\n",
       "      <td>0.0</td>\n",
       "      <td>0.0</td>\n",
       "    </tr>\n",
       "    <tr>\n",
       "      <th>3</th>\n",
       "      <td>604000.0</td>\n",
       "      <td>4</td>\n",
       "      <td>3.00</td>\n",
       "      <td>1960</td>\n",
       "      <td>5000</td>\n",
       "      <td>1.0</td>\n",
       "      <td>1050</td>\n",
       "      <td>910.0</td>\n",
       "      <td>1965</td>\n",
       "      <td>0.0</td>\n",
       "      <td>...</td>\n",
       "      <td>0.0</td>\n",
       "      <td>1.0</td>\n",
       "      <td>0.0</td>\n",
       "      <td>0.0</td>\n",
       "      <td>0.0</td>\n",
       "      <td>0.0</td>\n",
       "      <td>0.0</td>\n",
       "      <td>0.0</td>\n",
       "      <td>0.0</td>\n",
       "      <td>0.0</td>\n",
       "    </tr>\n",
       "    <tr>\n",
       "      <th>4</th>\n",
       "      <td>510000.0</td>\n",
       "      <td>3</td>\n",
       "      <td>2.00</td>\n",
       "      <td>1680</td>\n",
       "      <td>8080</td>\n",
       "      <td>1.0</td>\n",
       "      <td>1680</td>\n",
       "      <td>0.0</td>\n",
       "      <td>1987</td>\n",
       "      <td>0.0</td>\n",
       "      <td>...</td>\n",
       "      <td>0.0</td>\n",
       "      <td>0.0</td>\n",
       "      <td>0.0</td>\n",
       "      <td>0.0</td>\n",
       "      <td>0.0</td>\n",
       "      <td>0.0</td>\n",
       "      <td>0.0</td>\n",
       "      <td>0.0</td>\n",
       "      <td>0.0</td>\n",
       "      <td>0.0</td>\n",
       "    </tr>\n",
       "  </tbody>\n",
       "</table>\n",
       "<p>5 rows × 67 columns</p>\n",
       "</div>"
      ],
      "text/plain": [
       "      price  bedrooms  bathrooms  sqft_living  sqft_lot  floors  sqft_above  \\\n",
       "0  221900.0         3       1.00         1180      5650     1.0        1180   \n",
       "1  538000.0         3       2.25         2570      7242     2.0        2170   \n",
       "2  180000.0         2       1.00          770     10000     1.0         770   \n",
       "3  604000.0         4       3.00         1960      5000     1.0        1050   \n",
       "4  510000.0         3       2.00         1680      8080     1.0        1680   \n",
       "\n",
       "   sqft_basement  yr_built  yr_renovated  ...  x0_SeaTac  x0_Seattle  \\\n",
       "0            0.0      1955           0.0  ...        0.0         1.0   \n",
       "1          400.0      1951        1991.0  ...        0.0         1.0   \n",
       "2            0.0      1933           0.0  ...        0.0         0.0   \n",
       "3          910.0      1965           0.0  ...        0.0         1.0   \n",
       "4            0.0      1987           0.0  ...        0.0         0.0   \n",
       "\n",
       "   x0_Shoreline  x0_Skykomish  x0_Snoqualmie  x0_Tukwila  \\\n",
       "0           0.0           0.0            0.0         0.0   \n",
       "1           0.0           0.0            0.0         0.0   \n",
       "2           0.0           0.0            0.0         0.0   \n",
       "3           0.0           0.0            0.0         0.0   \n",
       "4           0.0           0.0            0.0         0.0   \n",
       "\n",
       "   x0_Union Hill-Novelty Hill  x0_Vashon  x0_Woodinville  x0_Yarrow Point  \n",
       "0                         0.0        0.0             0.0              0.0  \n",
       "1                         0.0        0.0             0.0              0.0  \n",
       "2                         0.0        0.0             0.0              0.0  \n",
       "3                         0.0        0.0             0.0              0.0  \n",
       "4                         0.0        0.0             0.0              0.0  \n",
       "\n",
       "[5 rows x 67 columns]"
      ]
     },
     "execution_count": 39,
     "metadata": {},
     "output_type": "execute_result"
    }
   ],
   "source": [
    "# df_cities is our final merged df which we will base our modeling off of\n",
    "df_cities.head()"
   ]
  },
  {
   "cell_type": "markdown",
   "id": "d16d35f7",
   "metadata": {},
   "source": [
    "# Data Modeling"
   ]
  },
  {
   "cell_type": "markdown",
   "id": "1ace0c50",
   "metadata": {},
   "source": [
    "## Analysing Regression with Property Feature Columns"
   ]
  },
  {
   "cell_type": "markdown",
   "id": "94aca78d",
   "metadata": {},
   "source": [
    "We want to look data corresponding to the property features: square footage, number of bedrooms, number of bathrooms, view quality, and waterfront location"
   ]
  },
  {
   "cell_type": "code",
   "execution_count": 40,
   "id": "d3094f35",
   "metadata": {},
   "outputs": [
    {
     "data": {
      "image/png": "[encoded data removed]",
      "text/plain": [
       "<Figure size 864x720 with 2 Axes>"
      ]
     },
     "metadata": {
      "needs_background": "light"
     },
     "output_type": "display_data"
    }
   ],
   "source": [
    "# create a correlation heat map for all the columns relating to house features (sqft, bedrooms, floors, etc)\n",
    "# check if there are any features that might cause collinearity issues\n",
    "\n",
    "cols = ['price', 'bedrooms', 'bathrooms', 'sqft_living', 'sqft_lot', 'floors', 'waterfront_coded', 'view_coded', 'sqft_above', 'sqft_basement', 'sqft_living15', 'sqft_lot15']\n",
    "corr = df_cities[cols].corr()\n",
    "\n",
    "fig, ax = plt.subplots(figsize=(12,10)) \n",
    "sns.heatmap(corr, annot=True, ax=ax);\n"
   ]
  },
  {
   "cell_type": "code",
   "execution_count": 41,
   "id": "35807408",
   "metadata": {},
   "outputs": [],
   "source": [
    "# normalize numerical columns that don't contain ordinal or categorical numbers\n",
    "col_norm = ['sqft_living', 'sqft_lot', 'sqft_above', 'sqft_basement', 'sqft_living15', 'sqft_lot15']\n",
    "\n",
    "def norm(series):\n",
    "    return (series - series.mean())/series.std()\n",
    "for feat in col_norm:\n",
    "    df_cities[feat+\"_norm\"] = norm(df_cities[feat])"
   ]
  },
  {
   "cell_type": "code",
   "execution_count": 42,
   "id": "e899e4da",
   "metadata": {},
   "outputs": [],
   "source": [
    "# this function creates an ordinary least squares model for price using input columns and data frame \n",
    "def ols_model(cols, df):\n",
    "    predictors = '+'.join(cols)\n",
    "    formula = 'price' + '~' + predictors\n",
    "    model = ols(formula=formula, data=df).fit()\n",
    "    return model"
   ]
  },
  {
   "cell_type": "code",
   "execution_count": 43,
   "id": "4b34eba3",
   "metadata": {},
   "outputs": [
    {
     "data": {
      "text/html": [
       "<table class=\"simpletable\">\n",
       "<caption>OLS Regression Results</caption>\n",
       "<tr>\n",
       "  <th>Dep. Variable:</th>          <td>price</td>      <th>  R-squared:         </th>  <td>   0.568</td>  \n",
       "</tr>\n",
       "<tr>\n",
       "  <th>Model:</th>                   <td>OLS</td>       <th>  Adj. R-squared:    </th>  <td>   0.568</td>  \n",
       "</tr>\n",
       "<tr>\n",
       "  <th>Method:</th>             <td>Least Squares</td>  <th>  F-statistic:       </th>  <td>   2734.</td>  \n",
       "</tr>\n",
       "<tr>\n",
       "  <th>Date:</th>             <td>Thu, 06 Jan 2022</td> <th>  Prob (F-statistic):</th>   <td>  0.00</td>   \n",
       "</tr>\n",
       "<tr>\n",
       "  <th>Time:</th>                 <td>15:18:47</td>     <th>  Log-Likelihood:    </th> <td>-2.8759e+05</td>\n",
       "</tr>\n",
       "<tr>\n",
       "  <th>No. Observations:</th>      <td> 20809</td>      <th>  AIC:               </th>  <td>5.752e+05</td> \n",
       "</tr>\n",
       "<tr>\n",
       "  <th>Df Residuals:</th>          <td> 20798</td>      <th>  BIC:               </th>  <td>5.753e+05</td> \n",
       "</tr>\n",
       "<tr>\n",
       "  <th>Df Model:</th>              <td>    10</td>      <th>                     </th>      <td> </td>     \n",
       "</tr>\n",
       "<tr>\n",
       "  <th>Covariance Type:</th>      <td>nonrobust</td>    <th>                     </th>      <td> </td>     \n",
       "</tr>\n",
       "</table>\n",
       "<table class=\"simpletable\">\n",
       "<tr>\n",
       "           <td></td>             <th>coef</th>     <th>std err</th>      <th>t</th>      <th>P>|t|</th>  <th>[0.025</th>    <th>0.975]</th>  \n",
       "</tr>\n",
       "<tr>\n",
       "  <th>Intercept</th>          <td> 6.687e+05</td> <td>  1.1e+04</td> <td>   61.034</td> <td> 0.000</td> <td> 6.47e+05</td> <td>  6.9e+05</td>\n",
       "</tr>\n",
       "<tr>\n",
       "  <th>bedrooms</th>           <td>-5.254e+04</td> <td> 2417.382</td> <td>  -21.734</td> <td> 0.000</td> <td>-5.73e+04</td> <td>-4.78e+04</td>\n",
       "</tr>\n",
       "<tr>\n",
       "  <th>bathrooms</th>          <td> 3507.7634</td> <td> 3715.233</td> <td>    0.944</td> <td> 0.345</td> <td>-3774.383</td> <td> 1.08e+04</td>\n",
       "</tr>\n",
       "<tr>\n",
       "  <th>sqft_living_norm</th>   <td> 1.211e+05</td> <td> 1801.301</td> <td>   67.232</td> <td> 0.000</td> <td> 1.18e+05</td> <td> 1.25e+05</td>\n",
       "</tr>\n",
       "<tr>\n",
       "  <th>sqft_lot_norm</th>      <td>  226.5408</td> <td> 2506.858</td> <td>    0.090</td> <td> 0.928</td> <td>-4687.097</td> <td> 5140.178</td>\n",
       "</tr>\n",
       "<tr>\n",
       "  <th>floors</th>             <td> 1.369e+04</td> <td> 4214.015</td> <td>    3.250</td> <td> 0.001</td> <td> 5433.644</td> <td>  2.2e+04</td>\n",
       "</tr>\n",
       "<tr>\n",
       "  <th>waterfront_coded</th>   <td> 6.598e+05</td> <td> 2.31e+04</td> <td>   28.592</td> <td> 0.000</td> <td> 6.15e+05</td> <td> 7.05e+05</td>\n",
       "</tr>\n",
       "<tr>\n",
       "  <th>view_coded</th>         <td> 7.065e+04</td> <td> 2562.700</td> <td>   27.568</td> <td> 0.000</td> <td> 6.56e+04</td> <td> 7.57e+04</td>\n",
       "</tr>\n",
       "<tr>\n",
       "  <th>sqft_above_norm</th>    <td> 1.009e+05</td> <td> 1939.839</td> <td>   51.999</td> <td> 0.000</td> <td> 9.71e+04</td> <td> 1.05e+05</td>\n",
       "</tr>\n",
       "<tr>\n",
       "  <th>sqft_basement_norm</th> <td>  6.28e+04</td> <td> 1843.612</td> <td>   34.062</td> <td> 0.000</td> <td> 5.92e+04</td> <td> 6.64e+04</td>\n",
       "</tr>\n",
       "<tr>\n",
       "  <th>sqft_living15_norm</th> <td> 3.626e+04</td> <td> 2706.496</td> <td>   13.397</td> <td> 0.000</td> <td>  3.1e+04</td> <td> 4.16e+04</td>\n",
       "</tr>\n",
       "<tr>\n",
       "  <th>sqft_lot15_norm</th>    <td>-2.141e+04</td> <td> 2523.883</td> <td>   -8.484</td> <td> 0.000</td> <td>-2.64e+04</td> <td>-1.65e+04</td>\n",
       "</tr>\n",
       "</table>\n",
       "<table class=\"simpletable\">\n",
       "<tr>\n",
       "  <th>Omnibus:</th>       <td>13050.962</td> <th>  Durbin-Watson:     </th>  <td>   1.984</td> \n",
       "</tr>\n",
       "<tr>\n",
       "  <th>Prob(Omnibus):</th>  <td> 0.000</td>   <th>  Jarque-Bera (JB):  </th> <td>486035.491</td>\n",
       "</tr>\n",
       "<tr>\n",
       "  <th>Skew:</th>           <td> 2.458</td>   <th>  Prob(JB):          </th>  <td>    0.00</td> \n",
       "</tr>\n",
       "<tr>\n",
       "  <th>Kurtosis:</th>       <td>26.161</td>   <th>  Cond. No.          </th>  <td>9.77e+15</td> \n",
       "</tr>\n",
       "</table><br/><br/>Notes:<br/>[1] Standard Errors assume that the covariance matrix of the errors is correctly specified.<br/>[2] The smallest eigenvalue is 4.43e-27. This might indicate that there are<br/>strong multicollinearity problems or that the design matrix is singular."
      ],
      "text/plain": [
       "<class 'statsmodels.iolib.summary.Summary'>\n",
       "\"\"\"\n",
       "                            OLS Regression Results                            \n",
       "==============================================================================\n",
       "Dep. Variable:                  price   R-squared:                       0.568\n",
       "Model:                            OLS   Adj. R-squared:                  0.568\n",
       "Method:                 Least Squares   F-statistic:                     2734.\n",
       "Date:                Thu, 06 Jan 2022   Prob (F-statistic):               0.00\n",
       "Time:                        15:18:47   Log-Likelihood:            -2.8759e+05\n",
       "No. Observations:               20809   AIC:                         5.752e+05\n",
       "Df Residuals:                   20798   BIC:                         5.753e+05\n",
       "Df Model:                          10                                         \n",
       "Covariance Type:            nonrobust                                         \n",
       "======================================================================================\n",
       "                         coef    std err          t      P>|t|      [0.025      0.975]\n",
       "--------------------------------------------------------------------------------------\n",
       "Intercept           6.687e+05    1.1e+04     61.034      0.000    6.47e+05     6.9e+05\n",
       "bedrooms           -5.254e+04   2417.382    -21.734      0.000   -5.73e+04   -4.78e+04\n",
       "bathrooms           3507.7634   3715.233      0.944      0.345   -3774.383    1.08e+04\n",
       "sqft_living_norm    1.211e+05   1801.301     67.232      0.000    1.18e+05    1.25e+05\n",
       "sqft_lot_norm        226.5408   2506.858      0.090      0.928   -4687.097    5140.178\n",
       "floors              1.369e+04   4214.015      3.250      0.001    5433.644     2.2e+04\n",
       "waterfront_coded    6.598e+05   2.31e+04     28.592      0.000    6.15e+05    7.05e+05\n",
       "view_coded          7.065e+04   2562.700     27.568      0.000    6.56e+04    7.57e+04\n",
       "sqft_above_norm     1.009e+05   1939.839     51.999      0.000    9.71e+04    1.05e+05\n",
       "sqft_basement_norm   6.28e+04   1843.612     34.062      0.000    5.92e+04    6.64e+04\n",
       "sqft_living15_norm  3.626e+04   2706.496     13.397      0.000     3.1e+04    4.16e+04\n",
       "sqft_lot15_norm    -2.141e+04   2523.883     -8.484      0.000   -2.64e+04   -1.65e+04\n",
       "==============================================================================\n",
       "Omnibus:                    13050.962   Durbin-Watson:                   1.984\n",
       "Prob(Omnibus):                  0.000   Jarque-Bera (JB):           486035.491\n",
       "Skew:                           2.458   Prob(JB):                         0.00\n",
       "Kurtosis:                      26.161   Cond. No.                     9.77e+15\n",
       "==============================================================================\n",
       "\n",
       "Notes:\n",
       "[1] Standard Errors assume that the covariance matrix of the errors is correctly specified.\n",
       "[2] The smallest eigenvalue is 4.43e-27. This might indicate that there are\n",
       "strong multicollinearity problems or that the design matrix is singular.\n",
       "\"\"\""
      ]
     },
     "execution_count": 43,
     "metadata": {},
     "output_type": "execute_result"
    }
   ],
   "source": [
    "# using an ols model to look at p-values and R^2 values for all of the feature columns\n",
    "col_pred = ['bedrooms', 'bathrooms', 'sqft_living_norm', 'sqft_lot_norm', 'floors', 'waterfront_coded', 'view_coded', 'sqft_above_norm', 'sqft_basement_norm', 'sqft_living15_norm', 'sqft_lot15_norm']\n",
    "\n",
    "ols_model(col_pred, df_cities).summary()\n"
   ]
  },
  {
   "cell_type": "markdown",
   "id": "16774445",
   "metadata": {},
   "source": [
    "### Multicollinearity Issues\n",
    "---\n",
    "\n",
    "There are potential multicollinearity issues with **sqft_above** and **sqft_living**, **sqft_living** and **bathrooms**, **sqft_living15** and **sqft_living**, and **sqft_lot15** and **sqft_lot** - this is due to high correlation values\n",
    "\n",
    "**bathrooms** has proven not to be statistically significant (p > 0.05)\n",
    "\n",
    "Best option to remove **sqft_above**, **sqft_living15**, **sqft_lot15**, and **bathrooms** columns to avoid any potential modeling issues"
   ]
  },
  {
   "cell_type": "code",
   "execution_count": 44,
   "id": "da415e3b",
   "metadata": {},
   "outputs": [],
   "source": [
    "cols_features = ['bedrooms', 'sqft_living_norm', 'waterfront_coded', 'view_coded', 'sqft_basement_norm', 'floors', 'sqft_lot_norm']"
   ]
  },
  {
   "cell_type": "code",
   "execution_count": 45,
   "id": "442397f7",
   "metadata": {},
   "outputs": [
    {
     "data": {
      "text/html": [
       "<table class=\"simpletable\">\n",
       "<caption>OLS Regression Results</caption>\n",
       "<tr>\n",
       "  <th>Dep. Variable:</th>          <td>price</td>      <th>  R-squared:         </th>  <td>   0.563</td>  \n",
       "</tr>\n",
       "<tr>\n",
       "  <th>Model:</th>                   <td>OLS</td>       <th>  Adj. R-squared:    </th>  <td>   0.563</td>  \n",
       "</tr>\n",
       "<tr>\n",
       "  <th>Method:</th>             <td>Least Squares</td>  <th>  F-statistic:       </th>  <td>   3827.</td>  \n",
       "</tr>\n",
       "<tr>\n",
       "  <th>Date:</th>             <td>Thu, 06 Jan 2022</td> <th>  Prob (F-statistic):</th>   <td>  0.00</td>   \n",
       "</tr>\n",
       "<tr>\n",
       "  <th>Time:</th>                 <td>15:18:47</td>     <th>  Log-Likelihood:    </th> <td>-2.8771e+05</td>\n",
       "</tr>\n",
       "<tr>\n",
       "  <th>No. Observations:</th>      <td> 20809</td>      <th>  AIC:               </th>  <td>5.754e+05</td> \n",
       "</tr>\n",
       "<tr>\n",
       "  <th>Df Residuals:</th>          <td> 20801</td>      <th>  BIC:               </th>  <td>5.755e+05</td> \n",
       "</tr>\n",
       "<tr>\n",
       "  <th>Df Model:</th>              <td>     7</td>      <th>                     </th>      <td> </td>     \n",
       "</tr>\n",
       "<tr>\n",
       "  <th>Covariance Type:</th>      <td>nonrobust</td>    <th>                     </th>      <td> </td>     \n",
       "</tr>\n",
       "</table>\n",
       "<table class=\"simpletable\">\n",
       "<tr>\n",
       "           <td></td>             <th>coef</th>     <th>std err</th>      <th>t</th>      <th>P>|t|</th>  <th>[0.025</th>    <th>0.975]</th>  \n",
       "</tr>\n",
       "<tr>\n",
       "  <th>Intercept</th>          <td> 6.795e+05</td> <td> 1.02e+04</td> <td>   66.470</td> <td> 0.000</td> <td> 6.59e+05</td> <td>    7e+05</td>\n",
       "</tr>\n",
       "<tr>\n",
       "  <th>bedrooms</th>           <td>-5.335e+04</td> <td> 2387.712</td> <td>  -22.344</td> <td> 0.000</td> <td> -5.8e+04</td> <td>-4.87e+04</td>\n",
       "</tr>\n",
       "<tr>\n",
       "  <th>sqft_living_norm</th>   <td> 2.644e+05</td> <td> 2665.596</td> <td>   99.195</td> <td> 0.000</td> <td> 2.59e+05</td> <td>  2.7e+05</td>\n",
       "</tr>\n",
       "<tr>\n",
       "  <th>waterfront_coded</th>   <td> 6.442e+05</td> <td> 2.32e+04</td> <td>   27.784</td> <td> 0.000</td> <td> 5.99e+05</td> <td>  6.9e+05</td>\n",
       "</tr>\n",
       "<tr>\n",
       "  <th>view_coded</th>         <td> 7.583e+04</td> <td> 2545.842</td> <td>   29.785</td> <td> 0.000</td> <td> 7.08e+04</td> <td> 8.08e+04</td>\n",
       "</tr>\n",
       "<tr>\n",
       "  <th>sqft_basement_norm</th> <td> 1327.1683</td> <td> 2204.446</td> <td>    0.602</td> <td> 0.547</td> <td>-2993.719</td> <td> 5648.056</td>\n",
       "</tr>\n",
       "<tr>\n",
       "  <th>floors</th>             <td>  1.25e+04</td> <td> 3842.814</td> <td>    3.253</td> <td> 0.001</td> <td> 4969.462</td> <td>    2e+04</td>\n",
       "</tr>\n",
       "<tr>\n",
       "  <th>sqft_lot_norm</th>      <td>-1.521e+04</td> <td> 1738.951</td> <td>   -8.749</td> <td> 0.000</td> <td>-1.86e+04</td> <td>-1.18e+04</td>\n",
       "</tr>\n",
       "</table>\n",
       "<table class=\"simpletable\">\n",
       "<tr>\n",
       "  <th>Omnibus:</th>       <td>12414.593</td> <th>  Durbin-Watson:     </th>  <td>   1.985</td> \n",
       "</tr>\n",
       "<tr>\n",
       "  <th>Prob(Omnibus):</th>  <td> 0.000</td>   <th>  Jarque-Bera (JB):  </th> <td>397436.839</td>\n",
       "</tr>\n",
       "<tr>\n",
       "  <th>Skew:</th>           <td> 2.329</td>   <th>  Prob(JB):          </th>  <td>    0.00</td> \n",
       "</tr>\n",
       "<tr>\n",
       "  <th>Kurtosis:</th>       <td>23.897</td>   <th>  Cond. No.          </th>  <td>    53.8</td> \n",
       "</tr>\n",
       "</table><br/><br/>Notes:<br/>[1] Standard Errors assume that the covariance matrix of the errors is correctly specified."
      ],
      "text/plain": [
       "<class 'statsmodels.iolib.summary.Summary'>\n",
       "\"\"\"\n",
       "                            OLS Regression Results                            \n",
       "==============================================================================\n",
       "Dep. Variable:                  price   R-squared:                       0.563\n",
       "Model:                            OLS   Adj. R-squared:                  0.563\n",
       "Method:                 Least Squares   F-statistic:                     3827.\n",
       "Date:                Thu, 06 Jan 2022   Prob (F-statistic):               0.00\n",
       "Time:                        15:18:47   Log-Likelihood:            -2.8771e+05\n",
       "No. Observations:               20809   AIC:                         5.754e+05\n",
       "Df Residuals:                   20801   BIC:                         5.755e+05\n",
       "Df Model:                           7                                         \n",
       "Covariance Type:            nonrobust                                         \n",
       "======================================================================================\n",
       "                         coef    std err          t      P>|t|      [0.025      0.975]\n",
       "--------------------------------------------------------------------------------------\n",
       "Intercept           6.795e+05   1.02e+04     66.470      0.000    6.59e+05       7e+05\n",
       "bedrooms           -5.335e+04   2387.712    -22.344      0.000    -5.8e+04   -4.87e+04\n",
       "sqft_living_norm    2.644e+05   2665.596     99.195      0.000    2.59e+05     2.7e+05\n",
       "waterfront_coded    6.442e+05   2.32e+04     27.784      0.000    5.99e+05     6.9e+05\n",
       "view_coded          7.583e+04   2545.842     29.785      0.000    7.08e+04    8.08e+04\n",
       "sqft_basement_norm  1327.1683   2204.446      0.602      0.547   -2993.719    5648.056\n",
       "floors               1.25e+04   3842.814      3.253      0.001    4969.462       2e+04\n",
       "sqft_lot_norm      -1.521e+04   1738.951     -8.749      0.000   -1.86e+04   -1.18e+04\n",
       "==============================================================================\n",
       "Omnibus:                    12414.593   Durbin-Watson:                   1.985\n",
       "Prob(Omnibus):                  0.000   Jarque-Bera (JB):           397436.839\n",
       "Skew:                           2.329   Prob(JB):                         0.00\n",
       "Kurtosis:                      23.897   Cond. No.                         53.8\n",
       "==============================================================================\n",
       "\n",
       "Notes:\n",
       "[1] Standard Errors assume that the covariance matrix of the errors is correctly specified.\n",
       "\"\"\""
      ]
     },
     "execution_count": 45,
     "metadata": {},
     "output_type": "execute_result"
    }
   ],
   "source": [
    "ols_model(cols_features, df_cities).summary()"
   ]
  },
  {
   "cell_type": "markdown",
   "id": "8c50fb73",
   "metadata": {},
   "source": [
    "### Removing statistically insignificant features\n",
    "\n",
    "**sqft_basement** now has a p-value > 0.05 so we can remove this columns from the model\n",
    "\n",
    "**sqft_lot** and **floors** do not have a significant effect on the R^2 value for the ols model, so we have removed these column from the model as well"
   ]
  },
  {
   "cell_type": "code",
   "execution_count": 46,
   "id": "c3128236",
   "metadata": {},
   "outputs": [],
   "source": [
    "# finalized list of features to be used for regression\n",
    "cols_features = ['bedrooms', 'sqft_living_norm', 'waterfront_coded', 'view_coded']\n"
   ]
  },
  {
   "cell_type": "code",
   "execution_count": 47,
   "id": "6ad7c213",
   "metadata": {
    "scrolled": false
   },
   "outputs": [
    {
     "data": {
      "text/html": [
       "<table class=\"simpletable\">\n",
       "<caption>OLS Regression Results</caption>\n",
       "<tr>\n",
       "  <th>Dep. Variable:</th>          <td>price</td>      <th>  R-squared:         </th>  <td>   0.561</td>  \n",
       "</tr>\n",
       "<tr>\n",
       "  <th>Model:</th>                   <td>OLS</td>       <th>  Adj. R-squared:    </th>  <td>   0.561</td>  \n",
       "</tr>\n",
       "<tr>\n",
       "  <th>Method:</th>             <td>Least Squares</td>  <th>  F-statistic:       </th>  <td>   6643.</td>  \n",
       "</tr>\n",
       "<tr>\n",
       "  <th>Date:</th>             <td>Thu, 06 Jan 2022</td> <th>  Prob (F-statistic):</th>   <td>  0.00</td>   \n",
       "</tr>\n",
       "<tr>\n",
       "  <th>Time:</th>                 <td>15:18:47</td>     <th>  Log-Likelihood:    </th> <td>-2.8776e+05</td>\n",
       "</tr>\n",
       "<tr>\n",
       "  <th>No. Observations:</th>      <td> 20809</td>      <th>  AIC:               </th>  <td>5.755e+05</td> \n",
       "</tr>\n",
       "<tr>\n",
       "  <th>Df Residuals:</th>          <td> 20804</td>      <th>  BIC:               </th>  <td>5.756e+05</td> \n",
       "</tr>\n",
       "<tr>\n",
       "  <th>Df Model:</th>              <td>     4</td>      <th>                     </th>      <td> </td>     \n",
       "</tr>\n",
       "<tr>\n",
       "  <th>Covariance Type:</th>      <td>nonrobust</td>    <th>                     </th>      <td> </td>     \n",
       "</tr>\n",
       "</table>\n",
       "<table class=\"simpletable\">\n",
       "<tr>\n",
       "          <td></td>            <th>coef</th>     <th>std err</th>      <th>t</th>      <th>P>|t|</th>  <th>[0.025</th>    <th>0.975]</th>  \n",
       "</tr>\n",
       "<tr>\n",
       "  <th>Intercept</th>        <td> 6.954e+05</td> <td> 8301.721</td> <td>   83.772</td> <td> 0.000</td> <td> 6.79e+05</td> <td> 7.12e+05</td>\n",
       "</tr>\n",
       "<tr>\n",
       "  <th>bedrooms</th>         <td>-5.247e+04</td> <td> 2381.399</td> <td>  -22.032</td> <td> 0.000</td> <td>-5.71e+04</td> <td>-4.78e+04</td>\n",
       "</tr>\n",
       "<tr>\n",
       "  <th>sqft_living_norm</th> <td> 2.647e+05</td> <td> 2228.619</td> <td>  118.761</td> <td> 0.000</td> <td>  2.6e+05</td> <td> 2.69e+05</td>\n",
       "</tr>\n",
       "<tr>\n",
       "  <th>waterfront_coded</th> <td> 6.483e+05</td> <td> 2.32e+04</td> <td>   27.911</td> <td> 0.000</td> <td> 6.03e+05</td> <td> 6.94e+05</td>\n",
       "</tr>\n",
       "<tr>\n",
       "  <th>view_coded</th>       <td> 7.461e+04</td> <td> 2509.194</td> <td>   29.735</td> <td> 0.000</td> <td> 6.97e+04</td> <td> 7.95e+04</td>\n",
       "</tr>\n",
       "</table>\n",
       "<table class=\"simpletable\">\n",
       "<tr>\n",
       "  <th>Omnibus:</th>       <td>12375.239</td> <th>  Durbin-Watson:     </th>  <td>   1.987</td> \n",
       "</tr>\n",
       "<tr>\n",
       "  <th>Prob(Omnibus):</th>  <td> 0.000</td>   <th>  Jarque-Bera (JB):  </th> <td>394928.758</td>\n",
       "</tr>\n",
       "<tr>\n",
       "  <th>Skew:</th>           <td> 2.319</td>   <th>  Prob(JB):          </th>  <td>    0.00</td> \n",
       "</tr>\n",
       "<tr>\n",
       "  <th>Kurtosis:</th>       <td>23.832</td>   <th>  Cond. No.          </th>  <td>    49.8</td> \n",
       "</tr>\n",
       "</table><br/><br/>Notes:<br/>[1] Standard Errors assume that the covariance matrix of the errors is correctly specified."
      ],
      "text/plain": [
       "<class 'statsmodels.iolib.summary.Summary'>\n",
       "\"\"\"\n",
       "                            OLS Regression Results                            \n",
       "==============================================================================\n",
       "Dep. Variable:                  price   R-squared:                       0.561\n",
       "Model:                            OLS   Adj. R-squared:                  0.561\n",
       "Method:                 Least Squares   F-statistic:                     6643.\n",
       "Date:                Thu, 06 Jan 2022   Prob (F-statistic):               0.00\n",
       "Time:                        15:18:47   Log-Likelihood:            -2.8776e+05\n",
       "No. Observations:               20809   AIC:                         5.755e+05\n",
       "Df Residuals:                   20804   BIC:                         5.756e+05\n",
       "Df Model:                           4                                         \n",
       "Covariance Type:            nonrobust                                         \n",
       "====================================================================================\n",
       "                       coef    std err          t      P>|t|      [0.025      0.975]\n",
       "------------------------------------------------------------------------------------\n",
       "Intercept         6.954e+05   8301.721     83.772      0.000    6.79e+05    7.12e+05\n",
       "bedrooms         -5.247e+04   2381.399    -22.032      0.000   -5.71e+04   -4.78e+04\n",
       "sqft_living_norm  2.647e+05   2228.619    118.761      0.000     2.6e+05    2.69e+05\n",
       "waterfront_coded  6.483e+05   2.32e+04     27.911      0.000    6.03e+05    6.94e+05\n",
       "view_coded        7.461e+04   2509.194     29.735      0.000    6.97e+04    7.95e+04\n",
       "==============================================================================\n",
       "Omnibus:                    12375.239   Durbin-Watson:                   1.987\n",
       "Prob(Omnibus):                  0.000   Jarque-Bera (JB):           394928.758\n",
       "Skew:                           2.319   Prob(JB):                         0.00\n",
       "Kurtosis:                      23.832   Cond. No.                         49.8\n",
       "==============================================================================\n",
       "\n",
       "Notes:\n",
       "[1] Standard Errors assume that the covariance matrix of the errors is correctly specified.\n",
       "\"\"\""
      ]
     },
     "execution_count": 47,
     "metadata": {},
     "output_type": "execute_result"
    }
   ],
   "source": [
    "# below is the ols model for the final selection of columns for house features\n",
    "# chose these columns based on p-value and how each effected R^2 value\n",
    "\n",
    "ols_model(cols_features, df_cities).summary()"
   ]
  },
  {
   "cell_type": "code",
   "execution_count": 48,
   "id": "0187ba7b",
   "metadata": {},
   "outputs": [],
   "source": [
    "# drop the unused feature columns from the data frame to continue with out regression modeling\n",
    "drop_cols = ['sqft_lot', 'sqft_above', 'sqft_basement', 'bathrooms', 'floors', 'sqft_living', 'sqft_living15', 'sqft_lot15', 'sqft_lot15_norm', \\\n",
    "            'sqft_living15_norm', 'sqft_lot_norm', 'sqft_above_norm', 'sqft_basement_norm']\n",
    "df_cities = df_cities.drop(drop_cols, axis=1)\n"
   ]
  },
  {
   "cell_type": "code",
   "execution_count": 49,
   "id": "56277f7f",
   "metadata": {},
   "outputs": [
    {
     "data": {
      "text/plain": [
       "Index(['price', 'bedrooms', 'yr_built', 'yr_renovated', 'condition_code',\n",
       "       'grade_code', 'age', 'renovated', 'age_of_renovations',\n",
       "       'waterfront_coded', 'view_coded', 'x0_Algona', 'x0_Auburn',\n",
       "       'x0_Beaux Arts Village', 'x0_Bellevue', 'x0_Black Diamond',\n",
       "       'x0_Bothell', 'x0_Burien', 'x0_Carnation', 'x0_Clyde Hill',\n",
       "       'x0_Cottage Lake', 'x0_Covington', 'x0_Des Moines', 'x0_Duvall',\n",
       "       'x0_Edmonds', 'x0_Enumclaw', 'x0_Fall City', 'x0_Federal Way',\n",
       "       'x0_Hunts Point', 'x0_Issaquah', 'x0_Kenmore', 'x0_Kent', 'x0_Kirkland',\n",
       "       'x0_Lake Forest Park', 'x0_Lakeland North', 'x0_Lakeland South',\n",
       "       'x0_Maple Valley', 'x0_Medina', 'x0_Mercer Island', 'x0_Milton',\n",
       "       'x0_Newcastle', 'x0_Normandy Park', 'x0_North Bend', 'x0_Pacific',\n",
       "       'x0_Preston', 'x0_Ravensdale', 'x0_Redmond', 'x0_Renton',\n",
       "       'x0_Sammamish', 'x0_SeaTac', 'x0_Seattle', 'x0_Shoreline',\n",
       "       'x0_Skykomish', 'x0_Snoqualmie', 'x0_Tukwila',\n",
       "       'x0_Union Hill-Novelty Hill', 'x0_Vashon', 'x0_Woodinville',\n",
       "       'x0_Yarrow Point', 'sqft_living_norm'],\n",
       "      dtype='object')"
      ]
     },
     "execution_count": 49,
     "metadata": {},
     "output_type": "execute_result"
    }
   ],
   "source": [
    "df_cities.columns"
   ]
  },
  {
   "cell_type": "code",
   "execution_count": 50,
   "id": "f1322b97",
   "metadata": {},
   "outputs": [
    {
     "name": "stdout",
     "output_type": "stream",
     "text": [
      "Train Score: 0.6034047223154878\n",
      "Test Score: 0.555868663423681\n",
      "Root Mean Squared Error: 250743.6360195723\n"
     ]
    }
   ],
   "source": [
    "# create a train test split model to output the R^2 value and the root mean squared error for the house feature columns\n",
    "X = df_cities[cols_features]\n",
    "y = df_cities['price']\n",
    "\n",
    "#create train test split\n",
    "X_train, X_test, y_train, y_test = train_test_split(X, y, test_size=0.20, random_state=42)\n",
    "\n",
    "#create model\n",
    "poly = PolynomialFeatures(2)\n",
    "X_poly = poly.fit_transform(X_train)\n",
    "model = LinearRegression()\n",
    "model.fit(X_poly, y_train)\n",
    "\n",
    "#predict model\n",
    "predict_train = model.predict(X_poly)\n",
    "predict_test = model.predict(poly.transform(X_test))\n",
    "mse = mean_squared_error(y_test, predict_test)\n",
    "\n",
    "#score model\n",
    "train_score = model.score(X_poly, y_train)\n",
    "test_score = model.score(poly.transform(X_test), y_test)\n",
    "\n",
    "train_score, test_score, mse\n",
    "\n",
    "\n",
    "print(f'Train Score: {train_score}\\nTest Score: {test_score}\\nRoot Mean Squared Error: {np.sqrt(mse)}')"
   ]
  },
  {
   "cell_type": "code",
   "execution_count": 51,
   "id": "9a5aab44",
   "metadata": {},
   "outputs": [
    {
     "data": {
      "image/png": "[encoded data removed]",
      "text/plain": [
       "<Figure size 864x576 with 1 Axes>"
      ]
     },
     "metadata": {
      "needs_background": "light"
     },
     "output_type": "display_data"
    }
   ],
   "source": [
    "# scatter plot of our starting regression model with a score of 0.55\n",
    "def currency(x, pos):\n",
    "    \"\"\"The two args are the value and tick position\"\"\"\n",
    "    if x >= 1e9:\n",
    "        s = '${:1.1f}B'.format(x*1e-9)\n",
    "    elif x >= 1e6:\n",
    "        s = '${:1.1f}M'.format(x*1e-6)\n",
    "    else:\n",
    "        s = '${:1.0f}K'.format(x*1e-3)\n",
    "    return s\n",
    "\n",
    "x_line = np.linspace(0,2000000)\n",
    "fig,axs = plt.subplots(figsize = (12,8))\n",
    "sns.scatterplot(np.concatenate((y_test,y_train)),np.concatenate((predict_test, predict_train)), marker = \".\" , s = 8,alpha = 1, label = \"Individual house sell price\")\n",
    "axs.plot(x_line, x_line, color =\"red\", label = \"Ideal prediction line\")\n",
    "axs.set_xlim(0,2000000) ; axs.set_ylim(0,2000000)\n",
    "axs.yaxis.set_major_formatter(currency)\n",
    "axs.xaxis.set_major_formatter(currency)\n",
    "axs.set_aspect(\"equal\")\n",
    "axs.set_title(\"House Price vs house predicted price plot\")\n",
    "axs.set_xlabel(\"House sell price\")\n",
    "axs.set_ylabel(\"House predicted sell price\")\n",
    "axs.legend();\n",
    "plt.savefig(\"./images/PricevsPredict_scatter_v1.png\")"
   ]
  },
  {
   "cell_type": "markdown",
   "id": "050fda9b",
   "metadata": {},
   "source": [
    "## Analysing Regression With Property Condition Data"
   ]
  },
  {
   "cell_type": "markdown",
   "id": "e2485927",
   "metadata": {},
   "source": [
    "Looking at the data corresponding to the condition of the property we subset the following columns:\n",
    "'condition_code', 'grade_code', 'age', 'age_of_renovations', and 'renovated'\n",
    "\n",
    "We then look at correlations between these variables:"
   ]
  },
  {
   "cell_type": "code",
   "execution_count": 52,
   "id": "d03ed451",
   "metadata": {},
   "outputs": [],
   "source": [
    "# First we create some basic variables that will be use throughout the analysis and modeling\n",
    "df_condition = df_cities[['price','condition_code','grade_code','age','age_of_renovations','renovated']]\n",
    "X_condition = df_condition[['condition_code','grade_code','age','age_of_renovations','renovated']]\n",
    "y_condition = df_condition.price"
   ]
  },
  {
   "cell_type": "code",
   "execution_count": 53,
   "id": "97cbae97",
   "metadata": {},
   "outputs": [
    {
     "data": {
      "text/html": [
       "<div>\n",
       "<style scoped>\n",
       "    .dataframe tbody tr th:only-of-type {\n",
       "        vertical-align: middle;\n",
       "    }\n",
       "\n",
       "    .dataframe tbody tr th {\n",
       "        vertical-align: top;\n",
       "    }\n",
       "\n",
       "    .dataframe thead th {\n",
       "        text-align: right;\n",
       "    }\n",
       "</style>\n",
       "<table border=\"1\" class=\"dataframe\">\n",
       "  <thead>\n",
       "    <tr style=\"text-align: right;\">\n",
       "      <th></th>\n",
       "      <th>condition_code</th>\n",
       "      <th>grade_code</th>\n",
       "      <th>age</th>\n",
       "      <th>age_of_renovations</th>\n",
       "      <th>renovated</th>\n",
       "    </tr>\n",
       "  </thead>\n",
       "  <tbody>\n",
       "    <tr>\n",
       "      <th>condition_code</th>\n",
       "      <td>1.000000</td>\n",
       "      <td>-0.143404</td>\n",
       "      <td>0.358635</td>\n",
       "      <td>-0.005028</td>\n",
       "      <td>-0.057591</td>\n",
       "    </tr>\n",
       "    <tr>\n",
       "      <th>grade_code</th>\n",
       "      <td>-0.143404</td>\n",
       "      <td>1.000000</td>\n",
       "      <td>-0.445096</td>\n",
       "      <td>-0.018371</td>\n",
       "      <td>0.018430</td>\n",
       "    </tr>\n",
       "    <tr>\n",
       "      <th>age</th>\n",
       "      <td>0.358635</td>\n",
       "      <td>-0.445096</td>\n",
       "      <td>1.000000</td>\n",
       "      <td>0.171060</td>\n",
       "      <td>0.201222</td>\n",
       "    </tr>\n",
       "    <tr>\n",
       "      <th>age_of_renovations</th>\n",
       "      <td>-0.005028</td>\n",
       "      <td>-0.018371</td>\n",
       "      <td>0.171060</td>\n",
       "      <td>1.000000</td>\n",
       "      <td>0.732604</td>\n",
       "    </tr>\n",
       "    <tr>\n",
       "      <th>renovated</th>\n",
       "      <td>-0.057591</td>\n",
       "      <td>0.018430</td>\n",
       "      <td>0.201222</td>\n",
       "      <td>0.732604</td>\n",
       "      <td>1.000000</td>\n",
       "    </tr>\n",
       "  </tbody>\n",
       "</table>\n",
       "</div>"
      ],
      "text/plain": [
       "                    condition_code  grade_code       age  age_of_renovations  \\\n",
       "condition_code            1.000000   -0.143404  0.358635           -0.005028   \n",
       "grade_code               -0.143404    1.000000 -0.445096           -0.018371   \n",
       "age                       0.358635   -0.445096  1.000000            0.171060   \n",
       "age_of_renovations       -0.005028   -0.018371  0.171060            1.000000   \n",
       "renovated                -0.057591    0.018430  0.201222            0.732604   \n",
       "\n",
       "                    renovated  \n",
       "condition_code      -0.057591  \n",
       "grade_code           0.018430  \n",
       "age                  0.201222  \n",
       "age_of_renovations   0.732604  \n",
       "renovated            1.000000  "
      ]
     },
     "execution_count": 53,
     "metadata": {},
     "output_type": "execute_result"
    }
   ],
   "source": [
    "# Now lets look at the feature correlations\n",
    "X_condition.corr()"
   ]
  },
  {
   "cell_type": "code",
   "execution_count": 54,
   "id": "7348d891",
   "metadata": {},
   "outputs": [
    {
     "data": {
      "image/png": "[encoded data removed]",
      "text/plain": [
       "<Figure size 576x432 with 2 Axes>"
      ]
     },
     "metadata": {
      "needs_background": "light"
     },
     "output_type": "display_data"
    }
   ],
   "source": [
    "# We can view this as a heat map to give a better view\n",
    "plt.figure(figsize=(8,6))\n",
    "sns.heatmap(X_condition.corr(), annot=True)\n",
    "plt.show()"
   ]
  },
  {
   "cell_type": "markdown",
   "id": "11c3bf6f",
   "metadata": {},
   "source": [
    "We can see that 'age_of_renovations' is closely correlated with 'renovated' and may cause multicolinearity issues. Indeed they are related to the same characteristsic and tell the same tale. We can eliminate one of these from our analysis.\n",
    "\n",
    "If a property is showing a value > 1 in 'age_of_renovations' then we know it has been renovated which tells us the same as the 'renovated' column... so we will drop 'renovated'"
   ]
  },
  {
   "cell_type": "code",
   "execution_count": 55,
   "id": "06ced210",
   "metadata": {},
   "outputs": [
    {
     "name": "stdout",
     "output_type": "stream",
     "text": [
      "                            OLS Regression Results                            \n",
      "==============================================================================\n",
      "Dep. Variable:                  price   R-squared:                       0.524\n",
      "Model:                            OLS   Adj. R-squared:                  0.524\n",
      "Method:                 Least Squares   F-statistic:                     5727.\n",
      "Date:                Thu, 06 Jan 2022   Prob (F-statistic):               0.00\n",
      "Time:                        15:18:48   Log-Likelihood:            -2.8859e+05\n",
      "No. Observations:               20809   AIC:                         5.772e+05\n",
      "Df Residuals:                   20804   BIC:                         5.772e+05\n",
      "Df Model:                           4                                         \n",
      "Covariance Type:            nonrobust                                         \n",
      "======================================================================================\n",
      "                         coef    std err          t      P>|t|      [0.025      0.975]\n",
      "--------------------------------------------------------------------------------------\n",
      "Intercept          -1.672e+06    1.7e+04    -98.374      0.000   -1.71e+06   -1.64e+06\n",
      "condition_code       2.93e+04   2909.966     10.070      0.000    2.36e+04     3.5e+04\n",
      "grade_code           2.55e+05   1703.505    149.694      0.000    2.52e+05    2.58e+05\n",
      "age                 3597.3664     72.318     49.744      0.000    3455.618    3739.115\n",
      "age_of_renovations  2379.6770    418.497      5.686      0.000    1559.391    3199.963\n",
      "==============================================================================\n",
      "Omnibus:                    19675.132   Durbin-Watson:                   1.982\n",
      "Prob(Omnibus):                  0.000   Jarque-Bera (JB):          2376779.011\n",
      "Skew:                           4.214   Prob(JB):                         0.00\n",
      "Kurtosis:                      54.674   Cond. No.                         516.\n",
      "==============================================================================\n",
      "\n",
      "Notes:\n",
      "[1] Standard Errors assume that the covariance matrix of the errors is correctly specified.\n"
     ]
    }
   ],
   "source": [
    "formula_cond = 'price ~ condition_code + grade_code + age + age_of_renovations'\n",
    "\n",
    "condition_model = ols(formula=formula_cond, data=df_condition).fit()\n",
    "condition_model_summ = condition_model.summary()\n",
    "\n",
    "print(condition_model_summ)"
   ]
  },
  {
   "cell_type": "markdown",
   "id": "a2572e4b",
   "metadata": {},
   "source": [
    "#### Lets take a look at some regressions and see what will give us the strongest model based on the condition variables\n",
    "\n",
    "Using all of our features, we get a strong score on both a training data set and also the test set"
   ]
  },
  {
   "cell_type": "code",
   "execution_count": 56,
   "id": "368ea23b",
   "metadata": {},
   "outputs": [
    {
     "name": "stdout",
     "output_type": "stream",
     "text": [
      "0.5271743330567502 252477.7599731657\n",
      "0.5234592881859601 260920.0403652614\n"
     ]
    }
   ],
   "source": [
    "X_train, X_test, y_train, y_test = train_test_split(X_condition, \n",
    "                                                    y_condition,\n",
    "                                                    test_size=None,\n",
    "                                                    random_state=42\n",
    "                                                   )\n",
    "\n",
    "lr = LinearRegression()\n",
    "lr.fit(X_train, y_train)\n",
    "lr.score(X_train, y_train)\n",
    "lr.score(X_test, y_test)\n",
    "y_hat_train = lr.predict(X_train)\n",
    "y_hat_test = lr.predict(X_test)\n",
    "\n",
    "print(lr.score(X_train, y_train), np.sqrt(mean_squared_error(y_train, y_hat_train)))\n",
    "print(lr.score(X_test, y_test), np.sqrt(mean_squared_error(y_test, y_hat_test)))"
   ]
  },
  {
   "cell_type": "markdown",
   "id": "892aa764",
   "metadata": {},
   "source": [
    "We don't need all of these features though so lets iterate through some linear regressions with different feature combinations and see what will give us the simplest, but highest scoring model"
   ]
  },
  {
   "cell_type": "code",
   "execution_count": 57,
   "id": "dae7973f",
   "metadata": {},
   "outputs": [
    {
     "name": "stdout",
     "output_type": "stream",
     "text": [
      "0.5256379052856822 252887.63538020814\n",
      "0.5195123287711394 261998.35030789813\n"
     ]
    }
   ],
   "source": [
    "# dropping the 'renovated' feature that was giving us multicolinearity issues\n",
    "\n",
    "X_condition_1 = df_condition[['condition_code','grade_code','age','age_of_renovations']]\n",
    "X_train, X_test, y_train, y_test = train_test_split(X_condition_1, \n",
    "                                                    y_condition,\n",
    "                                                    test_size=None,\n",
    "                                                    random_state=42\n",
    "                                                   )\n",
    "\n",
    "lr = LinearRegression()\n",
    "lr.fit(X_train, y_train)\n",
    "lr.score(X_train, y_train)\n",
    "lr.score(X_test, y_test)\n",
    "y_hat_train = lr.predict(X_train)\n",
    "y_hat_test = lr.predict(X_test)\n",
    "\n",
    "print(lr.score(X_train, y_train), np.sqrt(mean_squared_error(y_train, y_hat_train)))\n",
    "print(lr.score(X_test, y_test), np.sqrt(mean_squared_error(y_test, y_hat_test)))"
   ]
  },
  {
   "cell_type": "markdown",
   "id": "8936f8d2",
   "metadata": {},
   "source": [
    "Conditon and Grade tell a similar story about a property. Looking at the data we see Grade is a lot more in depth and provides more bins, so it is potentially more powerful. Lets drop Condition."
   ]
  },
  {
   "cell_type": "code",
   "execution_count": 58,
   "id": "0eca4bb8",
   "metadata": {},
   "outputs": [
    {
     "name": "stdout",
     "output_type": "stream",
     "text": [
      "0.5230926151621097 253565.188747691\n",
      "0.51785588897626 262449.5701121881\n"
     ]
    }
   ],
   "source": [
    "# dropping the 'condition_code' feature from the model\n",
    "\n",
    "X_condition_2 = df_condition[['grade_code','age','age_of_renovations']]\n",
    "X_train, X_test, y_train, y_test = train_test_split(X_condition_2, \n",
    "                                                    y_condition,\n",
    "                                                    test_size=None,\n",
    "                                                    random_state=42\n",
    "                                                   )\n",
    "\n",
    "lr = LinearRegression()\n",
    "lr.fit(X_train, y_train)\n",
    "lr.score(X_train, y_train)\n",
    "lr.score(X_test, y_test)\n",
    "y_hat_train = lr.predict(X_train)\n",
    "y_hat_test = lr.predict(X_test)\n",
    "\n",
    "print(lr.score(X_train, y_train), np.sqrt(mean_squared_error(y_train, y_hat_train)))\n",
    "print(lr.score(X_test, y_test), np.sqrt(mean_squared_error(y_test, y_hat_test)))"
   ]
  },
  {
   "cell_type": "markdown",
   "id": "17b5bfe0",
   "metadata": {},
   "source": [
    "That barely chaged our model score, and indeed when we look at just Condition it doesn't score well."
   ]
  },
  {
   "cell_type": "code",
   "execution_count": 59,
   "id": "0e4aedd7",
   "metadata": {},
   "outputs": [
    {
     "name": "stdout",
     "output_type": "stream",
     "text": [
      "0.0018602320334812905 366832.90584290633\n",
      "0.0007077178390301198 377836.31682633207\n"
     ]
    }
   ],
   "source": [
    "X_condition_3 = df_condition[['condition_code']]\n",
    "X_train, X_test, y_train, y_test = train_test_split(X_condition_3, \n",
    "                                                    y_condition,\n",
    "                                                    test_size=None,\n",
    "                                                    random_state=42\n",
    "                                                   )\n",
    "\n",
    "lr = LinearRegression()\n",
    "lr.fit(X_train, y_train)\n",
    "lr.score(X_train, y_train)\n",
    "lr.score(X_test, y_test)\n",
    "y_hat_train = lr.predict(X_train)\n",
    "y_hat_test = lr.predict(X_test)\n",
    "\n",
    "print(lr.score(X_train, y_train), np.sqrt(mean_squared_error(y_train, y_hat_train)))\n",
    "print(lr.score(X_test, y_test), np.sqrt(mean_squared_error(y_test, y_hat_test)))"
   ]
  },
  {
   "cell_type": "markdown",
   "id": "ca6d231b",
   "metadata": {},
   "source": [
    "However, looking at just Grade we can see that it scores well and is indeed our strongest feature."
   ]
  },
  {
   "cell_type": "code",
   "execution_count": 60,
   "id": "e64b6c0d",
   "metadata": {},
   "outputs": [
    {
     "name": "stdout",
     "output_type": "stream",
     "text": [
      "0.44420543971872617 273734.6358199129\n",
      "0.4401029411472318 282820.91664084553\n"
     ]
    }
   ],
   "source": [
    "X_condition_4 = df_condition[['grade_code']]\n",
    "X_train, X_test, y_train, y_test = train_test_split(X_condition_4, \n",
    "                                                    y_condition,\n",
    "                                                    test_size=None,\n",
    "                                                    random_state=42\n",
    "                                                   )\n",
    "\n",
    "lr = LinearRegression()\n",
    "lr.fit(X_train, y_train)\n",
    "lr.score(X_train, y_train)\n",
    "lr.score(X_test, y_test)\n",
    "y_hat_train = lr.predict(X_train)\n",
    "y_hat_test = lr.predict(X_test)\n",
    "\n",
    "print(lr.score(X_train, y_train), np.sqrt(mean_squared_error(y_train, y_hat_train)))\n",
    "print(lr.score(X_test, y_test), np.sqrt(mean_squared_error(y_test, y_hat_test)))"
   ]
  },
  {
   "cell_type": "markdown",
   "id": "52b48697",
   "metadata": {},
   "source": [
    "Including the 'age_of_renovations' feature does not add much to the model, so we will drop that as well"
   ]
  },
  {
   "cell_type": "code",
   "execution_count": 61,
   "id": "501ea385",
   "metadata": {},
   "outputs": [
    {
     "name": "stdout",
     "output_type": "stream",
     "text": [
      "0.44956910715008025 272410.6025334719\n",
      "0.44593878021761835 281343.12648545805\n"
     ]
    }
   ],
   "source": [
    "X_condition_5 = df_condition[['grade_code','age_of_renovations']]\n",
    "X_train, X_test, y_train, y_test = train_test_split(X_condition_5, \n",
    "                                                    y_condition,\n",
    "                                                    test_size=None,\n",
    "                                                    random_state=42\n",
    "                                                   )\n",
    "\n",
    "lr = LinearRegression()\n",
    "lr.fit(X_train, y_train)\n",
    "lr.score(X_train, y_train)\n",
    "lr.score(X_test, y_test)\n",
    "y_hat_train = lr.predict(X_train)\n",
    "y_hat_test = lr.predict(X_test)\n",
    "\n",
    "print(lr.score(X_train, y_train), np.sqrt(mean_squared_error(y_train, y_hat_train)))\n",
    "print(lr.score(X_test, y_test), np.sqrt(mean_squared_error(y_test, y_hat_test)))"
   ]
  },
  {
   "cell_type": "markdown",
   "id": "caa037ab",
   "metadata": {},
   "source": [
    "*Interestingly, Age does not score well by itself. However, when coupled with the Grade feature it gives a large improvement to the overall score.\n",
    "\n",
    "This combination of features gives us the highest score, with the least features."
   ]
  },
  {
   "cell_type": "code",
   "execution_count": 62,
   "id": "a7463d98",
   "metadata": {},
   "outputs": [
    {
     "name": "stdout",
     "output_type": "stream",
     "text": [
      "0.0018728403251327963 366830.5889575268\n",
      "0.002791746083447011 377442.1215836143\n"
     ]
    }
   ],
   "source": [
    "X_condition_6 = df_condition[['age']]\n",
    "X_train, X_test, y_train, y_test = train_test_split(X_condition_6, \n",
    "                                                    y_condition,\n",
    "                                                    test_size=None,\n",
    "                                                    random_state=42\n",
    "                                                   )\n",
    "\n",
    "lr = LinearRegression()\n",
    "lr.fit(X_train, y_train)\n",
    "lr.score(X_train, y_train)\n",
    "lr.score(X_test, y_test)\n",
    "y_hat_train = lr.predict(X_train)\n",
    "y_hat_test = lr.predict(X_test)\n",
    "\n",
    "print(lr.score(X_train, y_train), np.sqrt(mean_squared_error(y_train, y_hat_train)))\n",
    "print(lr.score(X_test, y_test), np.sqrt(mean_squared_error(y_test, y_hat_test)))"
   ]
  },
  {
   "cell_type": "code",
   "execution_count": 63,
   "id": "f4dee195",
   "metadata": {},
   "outputs": [
    {
     "name": "stdout",
     "output_type": "stream",
     "text": [
      "0.5225494083671667 253709.55549323428\n",
      "0.517243201168984 262616.2719302597\n"
     ]
    }
   ],
   "source": [
    "X_condition_7 = df_condition[['grade_code','age']]\n",
    "X_train, X_test, y_train, y_test = train_test_split(X_condition_7, \n",
    "                                                    y_condition,\n",
    "                                                    test_size=None,\n",
    "                                                    random_state=42\n",
    "                                                   )\n",
    "\n",
    "lr = LinearRegression()\n",
    "lr.fit(X_train, y_train)\n",
    "lr.score(X_train, y_train)\n",
    "lr.score(X_test, y_test)\n",
    "y_hat_train = lr.predict(X_train)\n",
    "y_hat_test = lr.predict(X_test)\n",
    "\n",
    "print(lr.score(X_train, y_train), np.sqrt(mean_squared_error(y_train, y_hat_train)))\n",
    "print(lr.score(X_test, y_test), np.sqrt(mean_squared_error(y_test, y_hat_test)))"
   ]
  },
  {
   "cell_type": "markdown",
   "id": "55611c8d",
   "metadata": {},
   "source": [
    "Indeed, these are the two columns we will include on the overall \"Linear Regression\" model\n",
    "\n",
    "Lets now look at some Polynomial regressions on the \"condition\" data and see if we can improve on our model"
   ]
  },
  {
   "cell_type": "code",
   "execution_count": 64,
   "id": "8513cd9c",
   "metadata": {},
   "outputs": [],
   "source": [
    "X_conditions = [X_condition, X_condition_1, X_condition_2, X_condition_3, X_condition_4, X_condition_5, X_condition_6, X_condition_7]"
   ]
  },
  {
   "cell_type": "code",
   "execution_count": 65,
   "id": "fdcba5ce",
   "metadata": {},
   "outputs": [],
   "source": [
    "# A function that interates through our combinations to determine the the best number of Polynomial Features\n",
    "# It returns an array of train and test scores for each combination\n",
    "\n",
    "def poly_scores_array (X_lst, y):\n",
    "    poly_scores = []\n",
    "    for X in X_lst:\n",
    "        train_scores = []\n",
    "        test_scores = []\n",
    "        for i in range(1,7):\n",
    "            poly = PolynomialFeatures(i)\n",
    "            X_poly = pd.DataFrame(poly.fit_transform(X))\n",
    "            X_train, X_test, y_train, y_test = train_test_split(X_poly, y, test_size=None, random_state=42)\n",
    "            model = LinearRegression()\n",
    "            model.fit(X_train, y_train)\n",
    "            train_scores.append(model.score(X_train, y_train))\n",
    "            test_scores.append(model.score(X_test, y_test))\n",
    "            scores = (train_scores, test_scores)\n",
    "            poly_scores.append(scores)\n",
    "    return poly_scores\n",
    "\n",
    "#uncomment code to see output array\n",
    "#poly_scores_array(X_conditions, y_condition)"
   ]
  },
  {
   "cell_type": "markdown",
   "id": "c2ba240a",
   "metadata": {},
   "source": [
    "Just eyeballing the array we conistently get our highest scores up to 4 polynomial features and then our test scores drop significantly."
   ]
  },
  {
   "cell_type": "code",
   "execution_count": 66,
   "id": "645d02da",
   "metadata": {
    "scrolled": true
   },
   "outputs": [
    {
     "data": {
      "text/plain": [
       "[(0.6402849890380022, 0.5843597766497225),\n",
       " (0.6350012560835352, 0.5981433743739706),\n",
       " (0.6202374972882756, 0.5959431416219656),\n",
       " (0.007248591776713775, 0.00482379560501256),\n",
       " (0.5184962728936298, 0.5149777999927404),\n",
       " (0.5376934309627891, 0.5274238243051276),\n",
       " (0.027081682172057198, 0.029939275074834182),\n",
       " (0.6104557001619637, 0.5982095285303346)]"
      ]
     },
     "execution_count": 66,
     "metadata": {},
     "output_type": "execute_result"
    }
   ],
   "source": [
    "# Having determined the best number of polynomial features is 4 for the property condition data\n",
    "# Create a function to iterate through our feature combinations to determine the best model\n",
    "\n",
    "def best_poly_model (X_lst, y):\n",
    "    poly_model_scores = []\n",
    "    for X in X_lst:\n",
    "        poly_2 = PolynomialFeatures(4)\n",
    "        X_poly = pd.DataFrame(poly_2.fit_transform(X))\n",
    "        X_train, X_test, y_train, y_test = train_test_split(X_poly, y,\n",
    "                                                    test_size=None,\n",
    "                                                    random_state=42)\n",
    "        lr_poly = LinearRegression()\n",
    "        lr_poly.fit(X_train, y_train)\n",
    "        train_score = lr_poly.score(X_train, y_train)\n",
    "        test_score = lr_poly.score(X_test, y_test)\n",
    "        score = (train_score, test_score)\n",
    "        poly_model_scores.append(score)\n",
    "    return poly_model_scores\n",
    "\n",
    "best_poly_model (X_conditions, y_condition)"
   ]
  },
  {
   "cell_type": "markdown",
   "id": "9ae8e627",
   "metadata": {},
   "source": [
    "The array above corresponds to our feature combinations. In our linear regression analysis we determined that X_condition_7 gave us our best model and we can see above that the same combination gives us excellent results and even scores the highest on the test data overall.\n",
    "\n",
    "Lets see this isolated below"
   ]
  },
  {
   "cell_type": "code",
   "execution_count": 67,
   "id": "7dcf2a0b",
   "metadata": {},
   "outputs": [
    {
     "name": "stdout",
     "output_type": "stream",
     "text": [
      "0.6104557001619637 229166.44799151595\n",
      "0.5982095285303346 239583.6897314296\n"
     ]
    }
   ],
   "source": [
    "poly_7 = PolynomialFeatures(4)\n",
    "X_poly_7 = pd.DataFrame(poly_7.fit_transform(X_condition_7))\n",
    "X_train, X_test, y_train, y_test = train_test_split(X_poly_7, y_condition,\n",
    "                                                    test_size=None,\n",
    "                                                    random_state=42)\n",
    "lr_poly_7 = LinearRegression()\n",
    "lr_poly_7.fit(X_train, y_train)\n",
    "lr_poly_7.score(X_train, y_train)\n",
    "lr_poly_7.score(X_test, y_test)\n",
    "y_hat_train = lr_poly_7.predict(X_train)\n",
    "y_hat_test = lr_poly_7.predict(X_test)\n",
    "\n",
    "print(lr_poly_7.score(X_train, y_train), np.sqrt(mean_squared_error(y_train, y_hat_train)))\n",
    "print(lr_poly_7.score(X_test, y_test), np.sqrt(mean_squared_error(y_test, y_hat_test)))"
   ]
  },
  {
   "cell_type": "markdown",
   "id": "e087a459",
   "metadata": {},
   "source": [
    "After performing both linear and ploynomial regression analysis on the Property Condition data, we have determined that Grade (as coded in 'grade_code') and Age ('date' - 'yr_built') are the best variables to use in our model"
   ]
  },
  {
   "cell_type": "markdown",
   "id": "6069572e",
   "metadata": {},
   "source": [
    "Lets take a look at how our model performs on our dataset"
   ]
  },
  {
   "cell_type": "code",
   "execution_count": 68,
   "id": "a7e039e9",
   "metadata": {
    "scrolled": false
   },
   "outputs": [
    {
     "data": {
      "image/png": "[encoded data removed]",
      "text/plain": [
       "<Figure size 864x576 with 1 Axes>"
      ]
     },
     "metadata": {
      "needs_background": "light"
     },
     "output_type": "display_data"
    }
   ],
   "source": [
    "x_line = np.linspace(0,2000000)\n",
    "fig,axs = plt.subplots(figsize = (12,8))\n",
    "sns.scatterplot(np.concatenate((y_test,y_train)),np.concatenate((y_hat_test, y_hat_train)), marker = \".\" , s = 8,alpha = 1, label = \"Individual house sell price\")\n",
    "axs.plot(x_line, x_line, color =\"red\", label = \"Ideal prediction line\")\n",
    "axs.set_xlim(0,2000000) ; axs.set_ylim(0,2000000)\n",
    "axs.yaxis.set_major_formatter(currency)\n",
    "axs.xaxis.set_major_formatter(currency)\n",
    "axs.set_aspect(\"equal\")\n",
    "axs.set_title(\"House Price vs house predicted price plot\")\n",
    "axs.set_xlabel(\"House sell price\")\n",
    "axs.set_ylabel(\"House predicted sell price\")\n",
    "axs.legend();\n",
    "plt.savefig(\"./images/property_condition_scatter.png\")"
   ]
  },
  {
   "cell_type": "markdown",
   "id": "1494bf96",
   "metadata": {},
   "source": [
    "We can see some banding in the plot which is due to the overwhelming significance of the grade feature and its effect on price.\n",
    "\n",
    "Now we can drop the columns from the data frame that we will not be using in our final regression model"
   ]
  },
  {
   "cell_type": "code",
   "execution_count": 69,
   "id": "917a339d",
   "metadata": {},
   "outputs": [],
   "source": [
    "cols_to_drop = ['yr_built', 'yr_renovated', 'condition_code', 'renovated', 'age_of_renovations']\n",
    "df_cities = df_cities.drop(cols_to_drop, axis=1)"
   ]
  },
  {
   "cell_type": "code",
   "execution_count": 70,
   "id": "4c202ae7",
   "metadata": {
    "scrolled": false
   },
   "outputs": [
    {
     "data": {
      "text/plain": [
       "Index(['price', 'bedrooms', 'grade_code', 'age', 'waterfront_coded',\n",
       "       'view_coded', 'x0_Algona', 'x0_Auburn', 'x0_Beaux Arts Village',\n",
       "       'x0_Bellevue', 'x0_Black Diamond', 'x0_Bothell', 'x0_Burien',\n",
       "       'x0_Carnation', 'x0_Clyde Hill', 'x0_Cottage Lake', 'x0_Covington',\n",
       "       'x0_Des Moines', 'x0_Duvall', 'x0_Edmonds', 'x0_Enumclaw',\n",
       "       'x0_Fall City', 'x0_Federal Way', 'x0_Hunts Point', 'x0_Issaquah',\n",
       "       'x0_Kenmore', 'x0_Kent', 'x0_Kirkland', 'x0_Lake Forest Park',\n",
       "       'x0_Lakeland North', 'x0_Lakeland South', 'x0_Maple Valley',\n",
       "       'x0_Medina', 'x0_Mercer Island', 'x0_Milton', 'x0_Newcastle',\n",
       "       'x0_Normandy Park', 'x0_North Bend', 'x0_Pacific', 'x0_Preston',\n",
       "       'x0_Ravensdale', 'x0_Redmond', 'x0_Renton', 'x0_Sammamish', 'x0_SeaTac',\n",
       "       'x0_Seattle', 'x0_Shoreline', 'x0_Skykomish', 'x0_Snoqualmie',\n",
       "       'x0_Tukwila', 'x0_Union Hill-Novelty Hill', 'x0_Vashon',\n",
       "       'x0_Woodinville', 'x0_Yarrow Point', 'sqft_living_norm'],\n",
       "      dtype='object')"
      ]
     },
     "execution_count": 70,
     "metadata": {},
     "output_type": "execute_result"
    }
   ],
   "source": [
    "df_cities.columns"
   ]
  },
  {
   "cell_type": "markdown",
   "id": "55584817",
   "metadata": {},
   "source": [
    "### Regression Model for Property Feature Columns and Property Condition Columns"
   ]
  },
  {
   "cell_type": "markdown",
   "id": "9f1a2032",
   "metadata": {},
   "source": [
    "Now that we have narrowed down our property feature columns and property condition columns we can create a new regression model"
   ]
  },
  {
   "cell_type": "code",
   "execution_count": 71,
   "id": "57e348c6",
   "metadata": {},
   "outputs": [],
   "source": [
    "cols_feat_cond = ['bedrooms', 'sqft_living_norm', 'waterfront_coded', 'view_coded', 'grade_code', 'age']"
   ]
  },
  {
   "cell_type": "code",
   "execution_count": 72,
   "id": "fddea274",
   "metadata": {
    "scrolled": true
   },
   "outputs": [
    {
     "name": "stdout",
     "output_type": "stream",
     "text": [
      "Train Score: 0.7104836374409886\n",
      "Test Score: 0.6922199449836378\n",
      "Root Mean Squared Error: 208734.60160340552\n"
     ]
    }
   ],
   "source": [
    "# create a train test split model to output the R^2 value and the mean squared error \n",
    "# for the property feature columns combined with property condition columns\n",
    "X = df_cities[cols_feat_cond]\n",
    "y = df_cities['price']\n",
    "\n",
    "#create train test split\n",
    "X_train, X_test, y_train, y_test = train_test_split(X, y, test_size=0.20, random_state=42)\n",
    "\n",
    "#create model - polynomial 2 is the best fit for this data (highest scores and lowest mean squared error)\n",
    "poly = PolynomialFeatures(2)\n",
    "X_poly = poly.fit_transform(X_train)\n",
    "model = LinearRegression()\n",
    "model.fit(X_poly, y_train)\n",
    "\n",
    "#predict model\n",
    "predict_train = model.predict(X_poly)\n",
    "predict_test = model.predict(poly.transform(X_test))\n",
    "mse = mean_squared_error(y_test, predict_test)\n",
    "\n",
    "#score model\n",
    "train_score = model.score(X_poly, y_train)\n",
    "test_score = model.score(poly.transform(X_test), y_test)\n",
    "\n",
    "train_score, test_score, mse\n",
    "\n",
    "\n",
    "print(f'Train Score: {train_score}\\nTest Score: {test_score}\\nRoot Mean Squared Error: {np.sqrt(mse)}')"
   ]
  },
  {
   "cell_type": "code",
   "execution_count": 73,
   "id": "68bedd6f",
   "metadata": {},
   "outputs": [
    {
     "data": {
      "image/png": "[encoded data removed]",
      "text/plain": [
       "<Figure size 864x576 with 1 Axes>"
      ]
     },
     "metadata": {
      "needs_background": "light"
     },
     "output_type": "display_data"
    }
   ],
   "source": [
    "# scatter plot for our updated regression model with a score of 0.69\n",
    "x_line = np.linspace(0,2000000)\n",
    "fig,axs = plt.subplots(figsize = (12,8))\n",
    "sns.scatterplot(np.concatenate((y_test,y_train)),np.concatenate((predict_test, predict_train)), marker = \".\" , s = 8,alpha = 1, label = \"Individual house sell price\")\n",
    "axs.plot(x_line, x_line, color =\"red\", label = \"Ideal prediction line\")\n",
    "axs.set_xlim(0,2000000) ; axs.set_ylim(0,2000000)\n",
    "axs.yaxis.set_major_formatter(currency)\n",
    "axs.xaxis.set_major_formatter(currency)\n",
    "axs.set_aspect(\"equal\")\n",
    "axs.set_title(\"House Price vs house predicted price plot\")\n",
    "axs.set_xlabel(\"House sell price\")\n",
    "axs.set_ylabel(\"House predicted sell price\")\n",
    "axs.legend();\n",
    "plt.savefig(\"./images/PricevsPredict_scatterv2.png\")"
   ]
  },
  {
   "cell_type": "markdown",
   "id": "0e48a62d",
   "metadata": {},
   "source": [
    "As we can see the R^2 scores for our new model is better than both the Property Features Model and the Property Condition Model. This shows us that are new data better fits our regression line!"
   ]
  },
  {
   "cell_type": "markdown",
   "id": "3b4d4c2c",
   "metadata": {},
   "source": [
    "Now it's time to add in our location data for our final regression model!"
   ]
  },
  {
   "cell_type": "markdown",
   "id": "1042522c",
   "metadata": {},
   "source": [
    "# Regression Results"
   ]
  },
  {
   "cell_type": "markdown",
   "id": "3e8eebe4",
   "metadata": {},
   "source": [
    "Below we have created a linear regression calculator which will output our R^2 value (model accuracy) as well as the mean squared error for our finalized dataset. It will also print out a random sample of our predictive model"
   ]
  },
  {
   "cell_type": "code",
   "execution_count": 82,
   "id": "b57417a7",
   "metadata": {
    "scrolled": true
   },
   "outputs": [],
   "source": [
    "# function for modeling linear regression \n",
    "\n",
    "\n",
    "def linear_reg_calculator(Data, n = 1, explore = False, sample_df = []):\n",
    "    #model preparation\n",
    "    Data = Data.reset_index().drop(\"index\", axis = 1)\n",
    "    poly = PolynomialFeatures(n)\n",
    "    linreg = LinearRegression()\n",
    "    scoring_model = [\"r2\", \"neg_mean_squared_error\"]\n",
    "    kf = KFold(n_splits=5)\n",
    "    y = Data[\"price\"]\n",
    "    X = Data.drop(\"price\", axis = 1)    \n",
    "    # execute code that will generate warnings\n",
    "    # Fit and transform X for polynomial function\n",
    "    if n > 1:\n",
    "        X_new = X.drop(df_cities_columns, axis = 1)    # Drop geo categorical data\n",
    "        X_poly= poly.fit_transform(X_new)                                        # Poly transformation on numerical data\n",
    "        X = pd.concat([pd.DataFrame(X_poly), Data[df_cities_columns]], axis = 1) # Making new dataframe\n",
    "        \n",
    "    \n",
    "    else:\n",
    "        pass\n",
    "    \n",
    "    # Modelling\n",
    "    reg_poly = cross_validate(linreg, X, y, scoring= scoring_model, cv = kf, return_estimator = True)\n",
    "    mean = np.mean(reg_poly[\"test_r2\"])\n",
    "    stand = np.std(reg_poly[\"test_r2\"])\n",
    "    model = reg_poly[\"estimator\"][0]\n",
    "    mean_mean_sq_error = -np.mean(reg_poly[\"test_neg_mean_squared_error\"])\n",
    "    \n",
    "    #Explore\n",
    "    if explore == True:\n",
    "        sample_df = sample_df.reset_index().drop(\"index\", axis = 1)\n",
    "        X = sample_df.drop(\"price\",axis=1)\n",
    "        if n > 1:\n",
    "            X_new = X.drop(df_cities_columns, axis = 1)    # Drop geo categorical data\n",
    "            X_poly= poly.fit_transform(X_new)                                        # Poly transformation on numerical data\n",
    "            X = pd.concat([pd.DataFrame(X_poly), sample_df[df_cities_columns]], axis = 1) # Making new dataframe\n",
    "        prices_sample = model.predict(X)\n",
    "        mean_sample = round(np.mean(prices_sample), 0)\n",
    "        median_sample = round(np.median(prices_sample), 0)\n",
    "        std_sample = round(np.std(prices_sample), 0)\n",
    "        \n",
    "        return prices_sample, mean_sample, median_sample, std_sample\n",
    "        \n",
    "    \n",
    "    \n",
    "    # Random house experiment\n",
    "    difference_list=[]\n",
    "    random_sample = np.random.randint(0, len(y))                         # Choose the random house from our prediction\n",
    "    y_hat = cross_val_predict(linreg, X, y, cv = kf)                     # Make predictions based on our model \n",
    "    price = round(y[random_sample],0)                                    # sample house price\n",
    "    predicted_price = round(y_hat[random_sample], 0)                     # sample house predicted price\n",
    "    difference = round(100*(y_hat[random_sample]/y[random_sample]-1),2)  # difference between prices\n",
    "    \n",
    "    # Random 20 houses prediction\n",
    "    for i in list(range(20)):\n",
    "        random_sample = np.random.randint(0, len(y))\n",
    "        difference_list.append(round(100*(y_hat[random_sample]/y[random_sample]-1),2))\n",
    "    difference_mean = round(np.mean(difference_list),2)    \n",
    "    difference_std = round(np.std(difference_list),2)    \n",
    "    \n",
    "    #Outputs\n",
    "    print(f\"Variance explained by model (R^2 Score): {round(mean*100,1)}% with 95% conf interval +-{round(2*stand*100,1)}%\")\n",
    "    print(f\"Root Mean Squared Error: {round(np.sqrt(mean_mean_sq_error), 0)}\")\n",
    "    print(f\"Random house price: {price}, predicted price: {predicted_price}, difference: {difference} %\")\n",
    "    print(f\"Sample(20 houses) prediction price difference: {difference_mean} %\")\n",
    "    return mean_mean_sq_error, mean, y_hat, y\n",
    "    \n",
    "#Work example\n",
    "#(MSE, mean_ac, y_hat_regr, y_reg) = linear_reg_calculator(df_cities, 2, [])\n"
   ]
  },
  {
   "cell_type": "code",
   "execution_count": 83,
   "id": "7a14e4e5",
   "metadata": {},
   "outputs": [
    {
     "name": "stdout",
     "output_type": "stream",
     "text": [
      "Variance explained by model (R^2 Score): 80.1% with 95% conf interval +-3.9%\n",
      "Root Mean Squared Error: 164282.0\n",
      "Random house price: 272750.0, predicted price: 296644.0, difference: 8.76 %\n",
      "Sample(20 houses) prediction price difference: 3.69 %\n"
     ]
    }
   ],
   "source": [
    "(MSE, mean_ac, y_hat_regr, y_reg) = linear_reg_calculator(df_cities, 2)"
   ]
  },
  {
   "cell_type": "code",
   "execution_count": 76,
   "id": "a7b7066f",
   "metadata": {
    "scrolled": true
   },
   "outputs": [
    {
     "data": {
      "image/png": "[encoded data removed]",
      "text/plain": [
       "<Figure size 864x576 with 1 Axes>"
      ]
     },
     "metadata": {
      "needs_background": "light"
     },
     "output_type": "display_data"
    }
   ],
   "source": [
    "# Linear regression performance plot.\n",
    "\n",
    "x_line = np.linspace(0,2000000)\n",
    "fig,axs = plt.subplots(figsize = (12,8))\n",
    "sns.scatterplot(y_reg,y_hat_regr , marker = \".\" , s = 8,alpha = 1, label = \"Individual house sell price\")\n",
    "axs.plot(x_line, x_line, color =\"red\", label = \"Ideal prediction line\")\n",
    "axs.set_xlim(0,2000000) ; axs.set_ylim(0,2000000)\n",
    "axs.yaxis.set_major_formatter(currency)\n",
    "axs.xaxis.set_major_formatter(currency)\n",
    "axs.set_aspect(\"equal\")\n",
    "axs.set_title(\"House Price vs house predicted price plot\")\n",
    "axs.set_xlabel(\"House sell price\")\n",
    "axs.set_ylabel(\"House predicted sell price\")\n",
    "axs.legend();\n",
    "plt.savefig(\"./images/PricevsPredict_scatterv3.png\")"
   ]
  },
  {
   "cell_type": "markdown",
   "id": "f384a930",
   "metadata": {},
   "source": [
    "### We can use this regression calculator to create a list of housing prices filtered by desired feature\n",
    "\n",
    "We chose to show average housing prices in relation to neighborhood. Our output shows a list of all neighborhoods sorted by average price\n",
    "\n",
    "This information can be used by our stakeholder to recommend certain areas to customers based on their budget"
   ]
  },
  {
   "cell_type": "code",
   "execution_count": 77,
   "id": "3c584fb4",
   "metadata": {},
   "outputs": [],
   "source": [
    "# Sample of 100 houses\n",
    "sample = df_cities.sample(n=100)\n",
    "# predict prices for them\n",
    "(prices_array, mean_sample, median_sample, std_sample) = linear_reg_calculator(df_cities, 2, True, sample)"
   ]
  },
  {
   "cell_type": "code",
   "execution_count": 78,
   "id": "5efe2ac7",
   "metadata": {},
   "outputs": [],
   "source": [
    "# Influence of city to median price im prediction model, sample 100 absolutely same houses but in different cities.\n",
    "sample = df_cities.sample(n=100)\n",
    "city_names = [city[3:] for city in df_cities_columns]\n",
    "median_city_list=[]\n",
    "for city in df_cities_columns:\n",
    "    sample[df_cities_columns] = 0\n",
    "    sample[city] = 1\n",
    "    (prices_array, mean_sample, median_sample, std_sample) = linear_reg_calculator(df_cities, 2, True, sample)\n",
    "    median_city_list.append(median_sample)\n",
    "    \n"
   ]
  },
  {
   "cell_type": "code",
   "execution_count": 79,
   "id": "2fc36dcc",
   "metadata": {
    "scrolled": true
   },
   "outputs": [
    {
     "data": {
      "text/plain": [
       "[(1536692.0, 'Medina'),\n",
       " (1358123.0, 'Yarrow Point'),\n",
       " (1320152.0, 'Clyde Hill'),\n",
       " (1216432.0, 'Hunts Point'),\n",
       " (951181.0, 'Beaux Arts Village'),\n",
       " (801343.0, 'Mercer Island'),\n",
       " (667233.0, 'Bellevue'),\n",
       " (610148.0, 'Kirkland'),\n",
       " (583257.0, 'Redmond'),\n",
       " (565000.0, 'Seattle'),\n",
       " (538636.0, 'Union Hill-Novelty Hill'),\n",
       " (517692.0, 'Sammamish'),\n",
       " (506449.0, 'Issaquah'),\n",
       " (504548.0, 'Woodinville'),\n",
       " (485378.0, 'Newcastle'),\n",
       " (482886.0, 'Fall City'),\n",
       " (474570.0, 'Shoreline'),\n",
       " (467796.0, 'Lake Forest Park'),\n",
       " (467181.0, 'Bothell'),\n",
       " (460673.0, 'Cottage Lake'),\n",
       " (460526.0, 'Kenmore'),\n",
       " (458431.0, 'Edmonds'),\n",
       " (458353.0, 'Vashon'),\n",
       " (448941.0, 'Preston'),\n",
       " (445866.0, 'North Bend'),\n",
       " (429452.0, 'Snoqualmie'),\n",
       " (421095.0, 'Carnation'),\n",
       " (409001.0, 'Duvall'),\n",
       " (398704.0, 'Burien'),\n",
       " (396751.0, 'Renton'),\n",
       " (396735.0, 'Black Diamond'),\n",
       " (394011.0, 'Normandy Park'),\n",
       " (372926.0, 'Ravensdale'),\n",
       " (363606.0, 'SeaTac'),\n",
       " (357522.0, 'Maple Valley'),\n",
       " (355915.0, 'Milton'),\n",
       " (352392.0, 'Covington'),\n",
       " (350007.0, 'Lakeland North'),\n",
       " (349415.0, 'Tukwila'),\n",
       " (346976.0, 'Enumclaw'),\n",
       " (346094.0, 'Des Moines'),\n",
       " (337483.0, 'Kent'),\n",
       " (336082.0, 'Lakeland South'),\n",
       " (322993.0, 'Algona'),\n",
       " (320328.0, 'Auburn'),\n",
       " (317344.0, 'Skykomish'),\n",
       " (312987.0, 'Pacific'),\n",
       " (308008.0, 'Federal Way')]"
      ]
     },
     "execution_count": 79,
     "metadata": {},
     "output_type": "execute_result"
    }
   ],
   "source": [
    "# list of median house prices in different cities\n",
    "median_city_sell = list(zip(median_city_list, city_names))\n",
    "\n",
    "# Find most expensive cities\n",
    "Most_expensive_cities = sorted(median_city_sell, reverse = True)\n",
    "\n",
    "Most_expensive_cities"
   ]
  },
  {
   "cell_type": "markdown",
   "id": "db28ea26",
   "metadata": {},
   "source": [
    "# Conclusion\n",
    "---\n",
    "Our finalized linear regression calculator shows that it is able to account for %80.1 of the variance in price. This final regression maximizes model score and minimizes root mean squared error based on our features.\n",
    "\n",
    "Our House Predicted Price scatter plot visualizes how well our predicted regression model fits the individual selling prices of houses\n",
    "\n",
    "Overall, this data tells us that with our selected feature columns (neighborhood, age, grade code, bedrooms, living square footage, waterfront, and view quality) combined with locational data, %80.1 of the variance in price can be explained by our model, which allows us to conclude that this model is a good fit for our data.\n",
    "\n",
    "Using this linear regression calculator we are also able to predict the average sale prices for each neighborhood to show us where the predicted most-to-least expensive houses are located"
   ]
  },
  {
   "cell_type": "code",
   "execution_count": null,
   "id": "2e4e5afb",
   "metadata": {},
   "outputs": [],
   "source": []
  }
 ],
 "metadata": {
  "kernelspec": {
   "display_name": "learn-env",
   "language": "python",
   "name": "learn-env"
  },
  "language_info": {
   "codemirror_mode": {
    "name": "ipython",
    "version": 3
   },
   "file_extension": ".py",
   "mimetype": "text/x-python",
   "name": "python",
   "nbconvert_exporter": "python",
   "pygments_lexer": "ipython3",
   "version": "3.8.5"
  }
 },
 "nbformat": 4,
 "nbformat_minor": 5
}
