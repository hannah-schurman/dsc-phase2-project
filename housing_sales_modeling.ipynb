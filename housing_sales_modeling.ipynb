{
 "cells": [
  {
   "cell_type": "markdown",
   "id": "54561808",
   "metadata": {},
   "source": [
    "# Overview"
   ]
  },
  {
   "cell_type": "code",
   "execution_count": null,
   "id": "9ecb4bb7",
   "metadata": {},
   "outputs": [],
   "source": []
  },
  {
   "cell_type": "markdown",
   "id": "8659f784",
   "metadata": {},
   "source": [
    "# Business Understanding"
   ]
  },
  {
   "cell_type": "code",
   "execution_count": null,
   "id": "4f60333a",
   "metadata": {},
   "outputs": [],
   "source": []
  },
  {
   "cell_type": "markdown",
   "id": "85269af8",
   "metadata": {},
   "source": [
    "# Data Understanding"
   ]
  },
  {
   "cell_type": "code",
   "execution_count": null,
   "id": "1955411d",
   "metadata": {},
   "outputs": [],
   "source": []
  },
  {
   "cell_type": "markdown",
   "id": "176f6265",
   "metadata": {},
   "source": [
    "# Data Cleaning"
   ]
  },
  {
   "cell_type": "code",
   "execution_count": 3,
   "id": "d352b4a9",
   "metadata": {},
   "outputs": [],
   "source": [
    "import pickle\n",
    "import matplotlib.pyplot as plt\n",
    "import seaborn as sns\n",
    "import pandas as pd\n",
    "#SKlearn\n",
    "from sklearn.preprocessing import OneHotEncoder, PolynomialFeatures\n",
    "from sklearn.linear_model import LinearRegression\n",
    "from sklearn.metrics import mean_squared_error, r2_score"
   ]
  },
  {
   "cell_type": "code",
   "execution_count": null,
   "id": "3cb7a0ce",
   "metadata": {},
   "outputs": [],
   "source": [
    "# Load processed data\n",
    "with open('./data/Data_frame_geoloc.pickle', 'rb') as df_geo_data:\n",
    "    df_geo = pickle.load(df_geo_data)\n"
   ]
  },
  {
   "cell_type": "code",
   "execution_count": null,
   "id": "0dd5185e",
   "metadata": {},
   "outputs": [],
   "source": [
    "# Lets check size of dataframe\n",
    "df_geo.shape"
   ]
  },
  {
   "cell_type": "code",
   "execution_count": null,
   "id": "9134314b",
   "metadata": {},
   "outputs": [],
   "source": [
    "df_geo"
   ]
  },
  {
   "cell_type": "code",
   "execution_count": null,
   "id": "eca2bfd2",
   "metadata": {},
   "outputs": [],
   "source": [
    "# Investigate states and counties for noise.\n",
    "print(df_geo[\"state\"].value_counts()) #all recods from Washington state\n",
    "print(df_geo[\"county\"].value_counts()) # 4 records from different counties. \n"
   ]
  },
  {
   "cell_type": "code",
   "execution_count": null,
   "id": "97944fcc",
   "metadata": {},
   "outputs": [],
   "source": [
    "#Remove records from other counties\n",
    "df_geo.drop(df_geo[df_geo.county != \"King County\"].index, inplace = True)\n",
    "df_geo.shape\n",
    "#Drop county and state columns to reduce the number of features\n",
    "df_geo.drop(\"state\", axis = 1, inplace = True)\n",
    "df_geo.drop(\"county\", axis = 1, inplace = True)\n"
   ]
  },
  {
   "cell_type": "code",
   "execution_count": null,
   "id": "73dc4f83",
   "metadata": {},
   "outputs": [],
   "source": [
    "# Investigate \"city\" column for missing values\n",
    "print(f\"The number of records with missing cities {sum(df_geo.city.isna())}\") #779 records have no cities in it. \n",
    "print(f\"Missing values are in {round(sum(df_geo.city.isna())/df_geo.shape[0]*100,2)} % of data\")"
   ]
  },
  {
   "cell_type": "code",
   "execution_count": null,
   "id": "d9980466",
   "metadata": {},
   "outputs": [],
   "source": [
    "#Remove records with missing cities\n",
    "df_geo.drop(df_geo[df_geo.city.isna() == True].index, axis = 0, inplace = True)\n",
    "df_geo.shape"
   ]
  },
  {
   "cell_type": "code",
   "execution_count": null,
   "id": "1dcd6409",
   "metadata": {},
   "outputs": [],
   "source": [
    "# Investigate \"Type_place\" column for missing values\n",
    "print(f\"The number of records with missing values {sum(df_geo.Type_place.isna())}\")"
   ]
  },
  {
   "cell_type": "code",
   "execution_count": null,
   "id": "9c617aee",
   "metadata": {},
   "outputs": [],
   "source": [
    "# Investigate \"suburb\" column for missing values\n",
    "print(f\"The number of records with missing values {sum(df_geo.suburb.isna())}\")\n",
    "print(f\"Missing \\\"suburb\\\"values are in {round(sum(df_geo.suburb.isna())/df_geo.shape[0]*100,2)} % of data\")\n",
    "df_geo.suburb.value_counts() #There is no strong patterns in this data\n",
    "print(\"Missing \\\"suburb\\\" values for cities are in \", round(sum(df_geo[df_geo.Type_place == \"city\"].suburb.value_counts())/df_geo[df_geo.Type_place == \"city\"].shape[0]*100,2), \"% of records\")\n",
    "# We won't proceed with this data\n"
   ]
  },
  {
   "cell_type": "code",
   "execution_count": null,
   "id": "7999202f",
   "metadata": {},
   "outputs": [],
   "source": [
    "df_geo"
   ]
  },
  {
   "cell_type": "markdown",
   "id": "d16d35f7",
   "metadata": {},
   "source": [
    "# Data Modeling"
   ]
  },
  {
   "cell_type": "code",
   "execution_count": null,
   "id": "0ac7eaf6",
   "metadata": {},
   "outputs": [],
   "source": [
    "# Different type of columns\n",
    "Geo_columns_basic_all = [\"Type_place\", \"city\"]\n",
    "Geo_columns_basic_type = [\"Type_place\"]\n",
    "Geo_columns_basic_city_names = [\"city\"]\n",
    "Geo_columns_advanced = [\"suburb\"]\n",
    "Geo_columns_drop = [\"To_drop_place_ID\", \"To_drop_road\"]"
   ]
  },
  {
   "cell_type": "code",
   "execution_count": null,
   "id": "b13bcd0c",
   "metadata": {},
   "outputs": [],
   "source": [
    "#!!! Setup the type of columns that will be used for modelling\n",
    "modeling_columns = Geo_columns_basic_all\n",
    "Geo_columns_drop = [column for column in list(df_geo.columns) if ((column not in modeling_columns)  and (column != \"id\"))]\n",
    "\n",
    "#seting up data categorical data for encoding !!!!!! (need to change later on)\n",
    "X_cat_geo = df_geo.drop(Geo_columns_drop, axis = 1)"
   ]
  },
  {
   "cell_type": "code",
   "execution_count": null,
   "id": "acceec17",
   "metadata": {},
   "outputs": [],
   "source": []
  },
  {
   "cell_type": "code",
   "execution_count": null,
   "id": "c810a8fc",
   "metadata": {},
   "outputs": [],
   "source": [
    "# setup One Hot Encoder \n",
    "encoder_geo_basic = OneHotEncoder(handle_unknown = \"ignore\")\n",
    "fit_df = X_cat_geo.drop(\"id\", axis = 1)\n",
    "encoder_geo_basic.fit(fit_df)"
   ]
  },
  {
   "cell_type": "code",
   "execution_count": null,
   "id": "542abebf",
   "metadata": {},
   "outputs": [],
   "source": [
    "# Prepare transformed dataset\n",
    "X_cat_transf=encoder_geo_basic.transform(fit_df)\n",
    "X_geo_df = pd.DataFrame(X_cat_transf.todense(), columns = encoder_geo_basic.get_feature_names())\n",
    "X_geo_df[\"id\"] = X_cat_geo[\"id\"]"
   ]
  },
  {
   "cell_type": "code",
   "execution_count": null,
   "id": "d3094f35",
   "metadata": {},
   "outputs": [],
   "source": [
    "X_geo_df"
   ]
  },
  {
   "cell_type": "code",
   "execution_count": null,
   "id": "4b34eba3",
   "metadata": {},
   "outputs": [],
   "source": []
  },
  {
   "cell_type": "markdown",
   "id": "1042522c",
   "metadata": {},
   "source": [
    "# Regression Results"
   ]
  },
  {
   "cell_type": "code",
   "execution_count": null,
   "id": "a7b7066f",
   "metadata": {},
   "outputs": [],
   "source": []
  },
  {
   "cell_type": "markdown",
   "id": "93c6da7d",
   "metadata": {},
   "source": [
    "# Conclusion"
   ]
  },
  {
   "cell_type": "code",
   "execution_count": null,
   "id": "c893e852",
   "metadata": {},
   "outputs": [],
   "source": []
  }
 ],
 "metadata": {
  "kernelspec": {
   "display_name": "Python 3 (ipykernel)",
   "language": "python",
   "name": "python3"
  },
  "language_info": {
   "codemirror_mode": {
    "name": "ipython",
    "version": 3
   },
   "file_extension": ".py",
   "mimetype": "text/x-python",
   "name": "python",
   "nbconvert_exporter": "python",
   "pygments_lexer": "ipython3",
   "version": "3.8.12"
  }
 },
 "nbformat": 4,
 "nbformat_minor": 5
}
